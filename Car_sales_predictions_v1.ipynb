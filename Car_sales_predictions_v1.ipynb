{
  "nbformat": 4,
  "nbformat_minor": 0,
  "metadata": {
    "colab": {
      "name": "Car_sales_predictions_v1.ipynb",
      "provenance": [],
      "collapsed_sections": [
        "Lx-wS125dnNk",
        "PCLgRXivdnNp",
        "fo-NxmSLdnNr",
        "B6D2kqejdnNv",
        "2ImYOho6dnNy",
        "i3ofJxdUdnN6"
      ],
      "include_colab_link": true
    },
    "kernelspec": {
      "display_name": "Python 3",
      "language": "python",
      "name": "python3"
    },
    "language_info": {
      "codemirror_mode": {
        "name": "ipython",
        "version": 3
      },
      "file_extension": ".py",
      "mimetype": "text/x-python",
      "name": "python",
      "nbconvert_exporter": "python",
      "pygments_lexer": "ipython3",
      "version": "3.8.5"
    }
  },
  "cells": [
    {
      "cell_type": "markdown",
      "metadata": {
        "id": "view-in-github",
        "colab_type": "text"
      },
      "source": [
        "<a href=\"https://colab.research.google.com/github/misbahsy/FourthBrain/blob/main/Car_sales_predictions_v1.ipynb\" target=\"_parent\"><img src=\"https://colab.research.google.com/assets/colab-badge.svg\" alt=\"Open In Colab\"/></a>"
      ]
    },
    {
      "cell_type": "markdown",
      "metadata": {
        "id": "lNnTTMT9dnM4"
      },
      "source": [
        "# Today you are a Data Scientist at Tesla! \n",
        "## You have assigned a new project to look at car sales from Quarters 1-2 in California for 2019 to make predictions as to which cars will be sold more than the others in Q3 and Q4, to ensure enough inventory to meet demands!"
      ]
    },
    {
      "cell_type": "markdown",
      "metadata": {
        "id": "AQqh5DMaq9QW"
      },
      "source": [
        "### If running this notebook in Google Colab, run the following cells first. Make sure you've placed the Q12 and Q34 sales data in the same Google Drive folder as this notebook."
      ]
    },
    {
      "cell_type": "code",
      "metadata": {
        "id": "8n75mujnrqU4"
      },
      "source": [
        "!pip install -U -q PyDrive\n",
        "from pydrive.auth import GoogleAuth\n",
        "from pydrive.drive import GoogleDrive\n",
        "from google.colab import auth\n",
        "from oauth2client.client import GoogleCredentials"
      ],
      "execution_count": 136,
      "outputs": []
    },
    {
      "cell_type": "code",
      "metadata": {
        "id": "HT1yuyN5zJ19"
      },
      "source": [
        "auth.authenticate_user()\n",
        "gauth = GoogleAuth()\n",
        "gauth.credentials = GoogleCredentials.get_application_default()\n",
        "drive = GoogleDrive(gauth)"
      ],
      "execution_count": 137,
      "outputs": []
    },
    {
      "cell_type": "markdown",
      "metadata": {
        "id": "q6AR4c7ivMtD"
      },
      "source": [
        "Replace the ID with ID of file you want to access. To get this ID: \n",
        "\n",
        "1.   Right-click on the name of the appropriate file in your Google Drive\n",
        "2.   Click \"Get link\"\n",
        "3.   Copy the characters between `d/` and the following slash\n",
        "4.   Paste them into the dictionary argument of the call to `drive.CreateFile()` as the value associated with the 'id' key. Make sure that this value is a string.\n",
        "\n"
      ]
    },
    {
      "cell_type": "code",
      "metadata": {
        "id": "mb5xkL1QzPYg"
      },
      "source": [
        "# Replace the ID with ID of file you want to access\n",
        "Q12 = drive.CreateFile({'id':'1YaKnIkBybdP5qaPFY_lhEz-A-I1dFoJ9'}) \n",
        "Q12.GetContentFile('sales_Q12_2019.csv') \n",
        "Q34 = drive.CreateFile({'id':'1xR4aibfWjMHpTpny1Pvxv0diqYH0HXrg'}) \n",
        "Q34.GetContentFile('sales_Q34_2019.csv') "
      ],
      "execution_count": 138,
      "outputs": []
    },
    {
      "cell_type": "markdown",
      "metadata": {
        "id": "OI6NP0JBdnM5"
      },
      "source": [
        "### Import the necessary modules"
      ]
    },
    {
      "cell_type": "code",
      "metadata": {
        "id": "WdNx3CHEdnM5"
      },
      "source": [
        "import os\n",
        "import numpy as np\n",
        "import pandas as pd\n",
        "import matplotlib.pyplot as plt"
      ],
      "execution_count": 139,
      "outputs": []
    },
    {
      "cell_type": "markdown",
      "metadata": {
        "id": "dM4fGT-ldnM8"
      },
      "source": [
        "### Read in the CSV file containing the California sales data for Quarters 1 and 2\n",
        "\n",
        "Then examine the data's shape and first few rows"
      ]
    },
    {
      "cell_type": "code",
      "metadata": {
        "id": "jj2l01M8dnM9",
        "colab": {
          "base_uri": "https://localhost:8080/",
          "height": 326
        },
        "outputId": "640e5407-d8f4-4bb0-cf8f-8c43e70fced1"
      },
      "source": [
        "df_sales = pd.read_csv(\"sales_Q12_2019.csv\")\n",
        "print(df_sales.shape)\n",
        "df_sales.head()"
      ],
      "execution_count": 140,
      "outputs": [
        {
          "output_type": "stream",
          "text": [
            "(5837, 76)\n"
          ],
          "name": "stdout"
        },
        {
          "output_type": "execute_result",
          "data": {
            "text/html": [
              "<div>\n",
              "<style scoped>\n",
              "    .dataframe tbody tr th:only-of-type {\n",
              "        vertical-align: middle;\n",
              "    }\n",
              "\n",
              "    .dataframe tbody tr th {\n",
              "        vertical-align: top;\n",
              "    }\n",
              "\n",
              "    .dataframe thead th {\n",
              "        text-align: right;\n",
              "    }\n",
              "</style>\n",
              "<table border=\"1\" class=\"dataframe\">\n",
              "  <thead>\n",
              "    <tr style=\"text-align: right;\">\n",
              "      <th></th>\n",
              "      <th>main_S60_1</th>\n",
              "      <th>main_S60_2</th>\n",
              "      <th>main_type_SP100D</th>\n",
              "      <th>main_type_S60D_1</th>\n",
              "      <th>main_type_S60D_2</th>\n",
              "      <th>main_type_S70</th>\n",
              "      <th>main_type_S70D</th>\n",
              "      <th>main_type_S75</th>\n",
              "      <th>main_type_S75D</th>\n",
              "      <th>main_type_S80</th>\n",
              "      <th>main_type_S80D</th>\n",
              "      <th>main_type_S85</th>\n",
              "      <th>main_type_S85P</th>\n",
              "      <th>main_type_P85D</th>\n",
              "      <th>main_type_S90</th>\n",
              "      <th>main_type_S90D</th>\n",
              "      <th>main_type_S100D</th>\n",
              "      <th>engine_A</th>\n",
              "      <th>engine_B</th>\n",
              "      <th>engine_C</th>\n",
              "      <th>engine_D</th>\n",
              "      <th>engine_E</th>\n",
              "      <th>engine_F</th>\n",
              "      <th>engine_G</th>\n",
              "      <th>engine_H</th>\n",
              "      <th>engine_I</th>\n",
              "      <th>engine_J</th>\n",
              "      <th>engine_K</th>\n",
              "      <th>engine_L</th>\n",
              "      <th>engine_M</th>\n",
              "      <th>engine_N</th>\n",
              "      <th>engine_O</th>\n",
              "      <th>engine_P</th>\n",
              "      <th>engine_Q</th>\n",
              "      <th>engine_R</th>\n",
              "      <th>engine_S</th>\n",
              "      <th>engine_T</th>\n",
              "      <th>engine_U</th>\n",
              "      <th>engine_V</th>\n",
              "      <th>engine_W</th>\n",
              "      <th>engine_X</th>\n",
              "      <th>engine_Y</th>\n",
              "      <th>engine_Z</th>\n",
              "      <th>sales_1</th>\n",
              "      <th>sales_2</th>\n",
              "      <th>sales_3</th>\n",
              "      <th>sales_4</th>\n",
              "      <th>sales_5</th>\n",
              "      <th>sales_6</th>\n",
              "      <th>sales_7</th>\n",
              "      <th>sales_8</th>\n",
              "      <th>sales_9</th>\n",
              "      <th>sales_10</th>\n",
              "      <th>sales_11</th>\n",
              "      <th>sales_12</th>\n",
              "      <th>sales_13</th>\n",
              "      <th>sales_14</th>\n",
              "      <th>sales_15</th>\n",
              "      <th>sales_16</th>\n",
              "      <th>sales_17</th>\n",
              "      <th>sales_18</th>\n",
              "      <th>sales_19</th>\n",
              "      <th>sales_20</th>\n",
              "      <th>sales_21</th>\n",
              "      <th>sales_22</th>\n",
              "      <th>sales_23</th>\n",
              "      <th>sales_24</th>\n",
              "      <th>sales_25</th>\n",
              "      <th>sales_26</th>\n",
              "      <th>sales_27</th>\n",
              "      <th>sales_28</th>\n",
              "      <th>sales_29</th>\n",
              "      <th>sales_30</th>\n",
              "      <th>MSRP</th>\n",
              "      <th>dealer_state</th>\n",
              "      <th>date</th>\n",
              "    </tr>\n",
              "  </thead>\n",
              "  <tbody>\n",
              "    <tr>\n",
              "      <th>0</th>\n",
              "      <td>0</td>\n",
              "      <td>0</td>\n",
              "      <td>0</td>\n",
              "      <td>0</td>\n",
              "      <td>0</td>\n",
              "      <td>1</td>\n",
              "      <td>0</td>\n",
              "      <td>0</td>\n",
              "      <td>0</td>\n",
              "      <td>0</td>\n",
              "      <td>0</td>\n",
              "      <td>0</td>\n",
              "      <td>0</td>\n",
              "      <td>0</td>\n",
              "      <td>0</td>\n",
              "      <td>0</td>\n",
              "      <td>0</td>\n",
              "      <td>0</td>\n",
              "      <td>0</td>\n",
              "      <td>0</td>\n",
              "      <td>0</td>\n",
              "      <td>0</td>\n",
              "      <td>0</td>\n",
              "      <td>0</td>\n",
              "      <td>0</td>\n",
              "      <td>0</td>\n",
              "      <td>0</td>\n",
              "      <td>0</td>\n",
              "      <td>0</td>\n",
              "      <td>0</td>\n",
              "      <td>0</td>\n",
              "      <td>0</td>\n",
              "      <td>0</td>\n",
              "      <td>0</td>\n",
              "      <td>0</td>\n",
              "      <td>0</td>\n",
              "      <td>0</td>\n",
              "      <td>0</td>\n",
              "      <td>0</td>\n",
              "      <td>0</td>\n",
              "      <td>0</td>\n",
              "      <td>0</td>\n",
              "      <td>0</td>\n",
              "      <td>0</td>\n",
              "      <td>0</td>\n",
              "      <td>0</td>\n",
              "      <td>0</td>\n",
              "      <td>0</td>\n",
              "      <td>0</td>\n",
              "      <td>0</td>\n",
              "      <td>1</td>\n",
              "      <td>0</td>\n",
              "      <td>0</td>\n",
              "      <td>0</td>\n",
              "      <td>0</td>\n",
              "      <td>0</td>\n",
              "      <td>0</td>\n",
              "      <td>0</td>\n",
              "      <td>0</td>\n",
              "      <td>0</td>\n",
              "      <td>0</td>\n",
              "      <td>0</td>\n",
              "      <td>0</td>\n",
              "      <td>0</td>\n",
              "      <td>0</td>\n",
              "      <td>0</td>\n",
              "      <td>0</td>\n",
              "      <td>0</td>\n",
              "      <td>0</td>\n",
              "      <td>0</td>\n",
              "      <td>0</td>\n",
              "      <td>0</td>\n",
              "      <td>0</td>\n",
              "      <td>44610</td>\n",
              "      <td>California</td>\n",
              "      <td>2019-04-28</td>\n",
              "    </tr>\n",
              "    <tr>\n",
              "      <th>1</th>\n",
              "      <td>0</td>\n",
              "      <td>0</td>\n",
              "      <td>0</td>\n",
              "      <td>0</td>\n",
              "      <td>0</td>\n",
              "      <td>0</td>\n",
              "      <td>0</td>\n",
              "      <td>0</td>\n",
              "      <td>0</td>\n",
              "      <td>0</td>\n",
              "      <td>0</td>\n",
              "      <td>0</td>\n",
              "      <td>0</td>\n",
              "      <td>0</td>\n",
              "      <td>0</td>\n",
              "      <td>0</td>\n",
              "      <td>1</td>\n",
              "      <td>1</td>\n",
              "      <td>0</td>\n",
              "      <td>0</td>\n",
              "      <td>0</td>\n",
              "      <td>0</td>\n",
              "      <td>0</td>\n",
              "      <td>0</td>\n",
              "      <td>0</td>\n",
              "      <td>0</td>\n",
              "      <td>0</td>\n",
              "      <td>0</td>\n",
              "      <td>0</td>\n",
              "      <td>0</td>\n",
              "      <td>0</td>\n",
              "      <td>0</td>\n",
              "      <td>0</td>\n",
              "      <td>0</td>\n",
              "      <td>0</td>\n",
              "      <td>0</td>\n",
              "      <td>0</td>\n",
              "      <td>0</td>\n",
              "      <td>0</td>\n",
              "      <td>0</td>\n",
              "      <td>0</td>\n",
              "      <td>0</td>\n",
              "      <td>0</td>\n",
              "      <td>0</td>\n",
              "      <td>0</td>\n",
              "      <td>0</td>\n",
              "      <td>0</td>\n",
              "      <td>0</td>\n",
              "      <td>0</td>\n",
              "      <td>0</td>\n",
              "      <td>1</td>\n",
              "      <td>0</td>\n",
              "      <td>0</td>\n",
              "      <td>0</td>\n",
              "      <td>0</td>\n",
              "      <td>0</td>\n",
              "      <td>0</td>\n",
              "      <td>0</td>\n",
              "      <td>0</td>\n",
              "      <td>0</td>\n",
              "      <td>0</td>\n",
              "      <td>0</td>\n",
              "      <td>0</td>\n",
              "      <td>0</td>\n",
              "      <td>0</td>\n",
              "      <td>0</td>\n",
              "      <td>0</td>\n",
              "      <td>0</td>\n",
              "      <td>0</td>\n",
              "      <td>0</td>\n",
              "      <td>0</td>\n",
              "      <td>0</td>\n",
              "      <td>0</td>\n",
              "      <td>41505</td>\n",
              "      <td>California</td>\n",
              "      <td>2019-03-14</td>\n",
              "    </tr>\n",
              "    <tr>\n",
              "      <th>2</th>\n",
              "      <td>0</td>\n",
              "      <td>0</td>\n",
              "      <td>0</td>\n",
              "      <td>0</td>\n",
              "      <td>0</td>\n",
              "      <td>0</td>\n",
              "      <td>0</td>\n",
              "      <td>0</td>\n",
              "      <td>0</td>\n",
              "      <td>0</td>\n",
              "      <td>0</td>\n",
              "      <td>0</td>\n",
              "      <td>1</td>\n",
              "      <td>0</td>\n",
              "      <td>0</td>\n",
              "      <td>0</td>\n",
              "      <td>0</td>\n",
              "      <td>0</td>\n",
              "      <td>0</td>\n",
              "      <td>0</td>\n",
              "      <td>0</td>\n",
              "      <td>0</td>\n",
              "      <td>0</td>\n",
              "      <td>0</td>\n",
              "      <td>0</td>\n",
              "      <td>0</td>\n",
              "      <td>0</td>\n",
              "      <td>0</td>\n",
              "      <td>0</td>\n",
              "      <td>0</td>\n",
              "      <td>0</td>\n",
              "      <td>0</td>\n",
              "      <td>0</td>\n",
              "      <td>1</td>\n",
              "      <td>0</td>\n",
              "      <td>0</td>\n",
              "      <td>0</td>\n",
              "      <td>0</td>\n",
              "      <td>0</td>\n",
              "      <td>0</td>\n",
              "      <td>0</td>\n",
              "      <td>0</td>\n",
              "      <td>0</td>\n",
              "      <td>0</td>\n",
              "      <td>0</td>\n",
              "      <td>0</td>\n",
              "      <td>0</td>\n",
              "      <td>0</td>\n",
              "      <td>0</td>\n",
              "      <td>1</td>\n",
              "      <td>0</td>\n",
              "      <td>0</td>\n",
              "      <td>0</td>\n",
              "      <td>0</td>\n",
              "      <td>0</td>\n",
              "      <td>0</td>\n",
              "      <td>0</td>\n",
              "      <td>0</td>\n",
              "      <td>0</td>\n",
              "      <td>0</td>\n",
              "      <td>0</td>\n",
              "      <td>0</td>\n",
              "      <td>0</td>\n",
              "      <td>0</td>\n",
              "      <td>0</td>\n",
              "      <td>0</td>\n",
              "      <td>0</td>\n",
              "      <td>0</td>\n",
              "      <td>0</td>\n",
              "      <td>0</td>\n",
              "      <td>0</td>\n",
              "      <td>0</td>\n",
              "      <td>0</td>\n",
              "      <td>58890</td>\n",
              "      <td>California</td>\n",
              "      <td>2019-06-12</td>\n",
              "    </tr>\n",
              "    <tr>\n",
              "      <th>3</th>\n",
              "      <td>0</td>\n",
              "      <td>0</td>\n",
              "      <td>0</td>\n",
              "      <td>0</td>\n",
              "      <td>0</td>\n",
              "      <td>0</td>\n",
              "      <td>0</td>\n",
              "      <td>0</td>\n",
              "      <td>0</td>\n",
              "      <td>0</td>\n",
              "      <td>0</td>\n",
              "      <td>0</td>\n",
              "      <td>1</td>\n",
              "      <td>0</td>\n",
              "      <td>0</td>\n",
              "      <td>0</td>\n",
              "      <td>0</td>\n",
              "      <td>0</td>\n",
              "      <td>0</td>\n",
              "      <td>0</td>\n",
              "      <td>0</td>\n",
              "      <td>0</td>\n",
              "      <td>0</td>\n",
              "      <td>0</td>\n",
              "      <td>0</td>\n",
              "      <td>0</td>\n",
              "      <td>0</td>\n",
              "      <td>0</td>\n",
              "      <td>0</td>\n",
              "      <td>0</td>\n",
              "      <td>0</td>\n",
              "      <td>0</td>\n",
              "      <td>0</td>\n",
              "      <td>0</td>\n",
              "      <td>0</td>\n",
              "      <td>0</td>\n",
              "      <td>0</td>\n",
              "      <td>0</td>\n",
              "      <td>0</td>\n",
              "      <td>0</td>\n",
              "      <td>0</td>\n",
              "      <td>0</td>\n",
              "      <td>0</td>\n",
              "      <td>0</td>\n",
              "      <td>0</td>\n",
              "      <td>0</td>\n",
              "      <td>0</td>\n",
              "      <td>0</td>\n",
              "      <td>0</td>\n",
              "      <td>0</td>\n",
              "      <td>1</td>\n",
              "      <td>0</td>\n",
              "      <td>0</td>\n",
              "      <td>0</td>\n",
              "      <td>0</td>\n",
              "      <td>0</td>\n",
              "      <td>0</td>\n",
              "      <td>0</td>\n",
              "      <td>0</td>\n",
              "      <td>0</td>\n",
              "      <td>0</td>\n",
              "      <td>0</td>\n",
              "      <td>0</td>\n",
              "      <td>0</td>\n",
              "      <td>0</td>\n",
              "      <td>0</td>\n",
              "      <td>0</td>\n",
              "      <td>0</td>\n",
              "      <td>0</td>\n",
              "      <td>0</td>\n",
              "      <td>0</td>\n",
              "      <td>0</td>\n",
              "      <td>0</td>\n",
              "      <td>51055</td>\n",
              "      <td>California</td>\n",
              "      <td>2019-03-04</td>\n",
              "    </tr>\n",
              "    <tr>\n",
              "      <th>4</th>\n",
              "      <td>0</td>\n",
              "      <td>0</td>\n",
              "      <td>0</td>\n",
              "      <td>0</td>\n",
              "      <td>0</td>\n",
              "      <td>0</td>\n",
              "      <td>0</td>\n",
              "      <td>0</td>\n",
              "      <td>0</td>\n",
              "      <td>0</td>\n",
              "      <td>0</td>\n",
              "      <td>0</td>\n",
              "      <td>0</td>\n",
              "      <td>1</td>\n",
              "      <td>0</td>\n",
              "      <td>0</td>\n",
              "      <td>0</td>\n",
              "      <td>0</td>\n",
              "      <td>0</td>\n",
              "      <td>0</td>\n",
              "      <td>0</td>\n",
              "      <td>0</td>\n",
              "      <td>0</td>\n",
              "      <td>0</td>\n",
              "      <td>0</td>\n",
              "      <td>0</td>\n",
              "      <td>0</td>\n",
              "      <td>0</td>\n",
              "      <td>0</td>\n",
              "      <td>0</td>\n",
              "      <td>0</td>\n",
              "      <td>0</td>\n",
              "      <td>0</td>\n",
              "      <td>1</td>\n",
              "      <td>0</td>\n",
              "      <td>0</td>\n",
              "      <td>0</td>\n",
              "      <td>0</td>\n",
              "      <td>0</td>\n",
              "      <td>0</td>\n",
              "      <td>0</td>\n",
              "      <td>0</td>\n",
              "      <td>0</td>\n",
              "      <td>0</td>\n",
              "      <td>0</td>\n",
              "      <td>0</td>\n",
              "      <td>0</td>\n",
              "      <td>0</td>\n",
              "      <td>0</td>\n",
              "      <td>0</td>\n",
              "      <td>0</td>\n",
              "      <td>0</td>\n",
              "      <td>0</td>\n",
              "      <td>1</td>\n",
              "      <td>0</td>\n",
              "      <td>0</td>\n",
              "      <td>0</td>\n",
              "      <td>0</td>\n",
              "      <td>0</td>\n",
              "      <td>0</td>\n",
              "      <td>0</td>\n",
              "      <td>0</td>\n",
              "      <td>0</td>\n",
              "      <td>0</td>\n",
              "      <td>0</td>\n",
              "      <td>0</td>\n",
              "      <td>0</td>\n",
              "      <td>0</td>\n",
              "      <td>0</td>\n",
              "      <td>0</td>\n",
              "      <td>0</td>\n",
              "      <td>0</td>\n",
              "      <td>0</td>\n",
              "      <td>70830</td>\n",
              "      <td>California</td>\n",
              "      <td>2019-01-23</td>\n",
              "    </tr>\n",
              "  </tbody>\n",
              "</table>\n",
              "</div>"
            ],
            "text/plain": [
              "   main_S60_1  main_S60_2  main_type_SP100D  ...   MSRP  dealer_state        date\n",
              "0           0           0                 0  ...  44610    California  2019-04-28\n",
              "1           0           0                 0  ...  41505    California  2019-03-14\n",
              "2           0           0                 0  ...  58890    California  2019-06-12\n",
              "3           0           0                 0  ...  51055    California  2019-03-04\n",
              "4           0           0                 0  ...  70830    California  2019-01-23\n",
              "\n",
              "[5 rows x 76 columns]"
            ]
          },
          "metadata": {
            "tags": []
          },
          "execution_count": 140
        }
      ]
    },
    {
      "cell_type": "markdown",
      "metadata": {
        "id": "dF7w0UQndnM_"
      },
      "source": [
        "### Begin cleaning the data\n",
        "\n",
        "Eliminate the `'dealer_state'` and `'date'` columns. The former is useless to our model, since we already know that our dataset is restricted to California sales. While we could possibly extract useful information from the `'date'` column (for example, to determine whether more cars are sold on weekends than weekdays), we'll be focusing on car configurations in this exercise."
      ]
    },
    {
      "cell_type": "code",
      "metadata": {
        "id": "i-DThsrHdnNA",
        "colab": {
          "base_uri": "https://localhost:8080/",
          "height": 224
        },
        "outputId": "da12d9a6-c5bc-45c7-9125-d2a093886e73"
      },
      "source": [
        "df_sales = df_sales.drop(columns=['dealer_state','date'])\n",
        "df_sales.head()"
      ],
      "execution_count": 141,
      "outputs": [
        {
          "output_type": "execute_result",
          "data": {
            "text/html": [
              "<div>\n",
              "<style scoped>\n",
              "    .dataframe tbody tr th:only-of-type {\n",
              "        vertical-align: middle;\n",
              "    }\n",
              "\n",
              "    .dataframe tbody tr th {\n",
              "        vertical-align: top;\n",
              "    }\n",
              "\n",
              "    .dataframe thead th {\n",
              "        text-align: right;\n",
              "    }\n",
              "</style>\n",
              "<table border=\"1\" class=\"dataframe\">\n",
              "  <thead>\n",
              "    <tr style=\"text-align: right;\">\n",
              "      <th></th>\n",
              "      <th>main_S60_1</th>\n",
              "      <th>main_S60_2</th>\n",
              "      <th>main_type_SP100D</th>\n",
              "      <th>main_type_S60D_1</th>\n",
              "      <th>main_type_S60D_2</th>\n",
              "      <th>main_type_S70</th>\n",
              "      <th>main_type_S70D</th>\n",
              "      <th>main_type_S75</th>\n",
              "      <th>main_type_S75D</th>\n",
              "      <th>main_type_S80</th>\n",
              "      <th>main_type_S80D</th>\n",
              "      <th>main_type_S85</th>\n",
              "      <th>main_type_S85P</th>\n",
              "      <th>main_type_P85D</th>\n",
              "      <th>main_type_S90</th>\n",
              "      <th>main_type_S90D</th>\n",
              "      <th>main_type_S100D</th>\n",
              "      <th>engine_A</th>\n",
              "      <th>engine_B</th>\n",
              "      <th>engine_C</th>\n",
              "      <th>engine_D</th>\n",
              "      <th>engine_E</th>\n",
              "      <th>engine_F</th>\n",
              "      <th>engine_G</th>\n",
              "      <th>engine_H</th>\n",
              "      <th>engine_I</th>\n",
              "      <th>engine_J</th>\n",
              "      <th>engine_K</th>\n",
              "      <th>engine_L</th>\n",
              "      <th>engine_M</th>\n",
              "      <th>engine_N</th>\n",
              "      <th>engine_O</th>\n",
              "      <th>engine_P</th>\n",
              "      <th>engine_Q</th>\n",
              "      <th>engine_R</th>\n",
              "      <th>engine_S</th>\n",
              "      <th>engine_T</th>\n",
              "      <th>engine_U</th>\n",
              "      <th>engine_V</th>\n",
              "      <th>engine_W</th>\n",
              "      <th>engine_X</th>\n",
              "      <th>engine_Y</th>\n",
              "      <th>engine_Z</th>\n",
              "      <th>sales_1</th>\n",
              "      <th>sales_2</th>\n",
              "      <th>sales_3</th>\n",
              "      <th>sales_4</th>\n",
              "      <th>sales_5</th>\n",
              "      <th>sales_6</th>\n",
              "      <th>sales_7</th>\n",
              "      <th>sales_8</th>\n",
              "      <th>sales_9</th>\n",
              "      <th>sales_10</th>\n",
              "      <th>sales_11</th>\n",
              "      <th>sales_12</th>\n",
              "      <th>sales_13</th>\n",
              "      <th>sales_14</th>\n",
              "      <th>sales_15</th>\n",
              "      <th>sales_16</th>\n",
              "      <th>sales_17</th>\n",
              "      <th>sales_18</th>\n",
              "      <th>sales_19</th>\n",
              "      <th>sales_20</th>\n",
              "      <th>sales_21</th>\n",
              "      <th>sales_22</th>\n",
              "      <th>sales_23</th>\n",
              "      <th>sales_24</th>\n",
              "      <th>sales_25</th>\n",
              "      <th>sales_26</th>\n",
              "      <th>sales_27</th>\n",
              "      <th>sales_28</th>\n",
              "      <th>sales_29</th>\n",
              "      <th>sales_30</th>\n",
              "      <th>MSRP</th>\n",
              "    </tr>\n",
              "  </thead>\n",
              "  <tbody>\n",
              "    <tr>\n",
              "      <th>0</th>\n",
              "      <td>0</td>\n",
              "      <td>0</td>\n",
              "      <td>0</td>\n",
              "      <td>0</td>\n",
              "      <td>0</td>\n",
              "      <td>1</td>\n",
              "      <td>0</td>\n",
              "      <td>0</td>\n",
              "      <td>0</td>\n",
              "      <td>0</td>\n",
              "      <td>0</td>\n",
              "      <td>0</td>\n",
              "      <td>0</td>\n",
              "      <td>0</td>\n",
              "      <td>0</td>\n",
              "      <td>0</td>\n",
              "      <td>0</td>\n",
              "      <td>0</td>\n",
              "      <td>0</td>\n",
              "      <td>0</td>\n",
              "      <td>0</td>\n",
              "      <td>0</td>\n",
              "      <td>0</td>\n",
              "      <td>0</td>\n",
              "      <td>0</td>\n",
              "      <td>0</td>\n",
              "      <td>0</td>\n",
              "      <td>0</td>\n",
              "      <td>0</td>\n",
              "      <td>0</td>\n",
              "      <td>0</td>\n",
              "      <td>0</td>\n",
              "      <td>0</td>\n",
              "      <td>0</td>\n",
              "      <td>0</td>\n",
              "      <td>0</td>\n",
              "      <td>0</td>\n",
              "      <td>0</td>\n",
              "      <td>0</td>\n",
              "      <td>0</td>\n",
              "      <td>0</td>\n",
              "      <td>0</td>\n",
              "      <td>0</td>\n",
              "      <td>0</td>\n",
              "      <td>0</td>\n",
              "      <td>0</td>\n",
              "      <td>0</td>\n",
              "      <td>0</td>\n",
              "      <td>0</td>\n",
              "      <td>0</td>\n",
              "      <td>1</td>\n",
              "      <td>0</td>\n",
              "      <td>0</td>\n",
              "      <td>0</td>\n",
              "      <td>0</td>\n",
              "      <td>0</td>\n",
              "      <td>0</td>\n",
              "      <td>0</td>\n",
              "      <td>0</td>\n",
              "      <td>0</td>\n",
              "      <td>0</td>\n",
              "      <td>0</td>\n",
              "      <td>0</td>\n",
              "      <td>0</td>\n",
              "      <td>0</td>\n",
              "      <td>0</td>\n",
              "      <td>0</td>\n",
              "      <td>0</td>\n",
              "      <td>0</td>\n",
              "      <td>0</td>\n",
              "      <td>0</td>\n",
              "      <td>0</td>\n",
              "      <td>0</td>\n",
              "      <td>44610</td>\n",
              "    </tr>\n",
              "    <tr>\n",
              "      <th>1</th>\n",
              "      <td>0</td>\n",
              "      <td>0</td>\n",
              "      <td>0</td>\n",
              "      <td>0</td>\n",
              "      <td>0</td>\n",
              "      <td>0</td>\n",
              "      <td>0</td>\n",
              "      <td>0</td>\n",
              "      <td>0</td>\n",
              "      <td>0</td>\n",
              "      <td>0</td>\n",
              "      <td>0</td>\n",
              "      <td>0</td>\n",
              "      <td>0</td>\n",
              "      <td>0</td>\n",
              "      <td>0</td>\n",
              "      <td>1</td>\n",
              "      <td>1</td>\n",
              "      <td>0</td>\n",
              "      <td>0</td>\n",
              "      <td>0</td>\n",
              "      <td>0</td>\n",
              "      <td>0</td>\n",
              "      <td>0</td>\n",
              "      <td>0</td>\n",
              "      <td>0</td>\n",
              "      <td>0</td>\n",
              "      <td>0</td>\n",
              "      <td>0</td>\n",
              "      <td>0</td>\n",
              "      <td>0</td>\n",
              "      <td>0</td>\n",
              "      <td>0</td>\n",
              "      <td>0</td>\n",
              "      <td>0</td>\n",
              "      <td>0</td>\n",
              "      <td>0</td>\n",
              "      <td>0</td>\n",
              "      <td>0</td>\n",
              "      <td>0</td>\n",
              "      <td>0</td>\n",
              "      <td>0</td>\n",
              "      <td>0</td>\n",
              "      <td>0</td>\n",
              "      <td>0</td>\n",
              "      <td>0</td>\n",
              "      <td>0</td>\n",
              "      <td>0</td>\n",
              "      <td>0</td>\n",
              "      <td>0</td>\n",
              "      <td>1</td>\n",
              "      <td>0</td>\n",
              "      <td>0</td>\n",
              "      <td>0</td>\n",
              "      <td>0</td>\n",
              "      <td>0</td>\n",
              "      <td>0</td>\n",
              "      <td>0</td>\n",
              "      <td>0</td>\n",
              "      <td>0</td>\n",
              "      <td>0</td>\n",
              "      <td>0</td>\n",
              "      <td>0</td>\n",
              "      <td>0</td>\n",
              "      <td>0</td>\n",
              "      <td>0</td>\n",
              "      <td>0</td>\n",
              "      <td>0</td>\n",
              "      <td>0</td>\n",
              "      <td>0</td>\n",
              "      <td>0</td>\n",
              "      <td>0</td>\n",
              "      <td>0</td>\n",
              "      <td>41505</td>\n",
              "    </tr>\n",
              "    <tr>\n",
              "      <th>2</th>\n",
              "      <td>0</td>\n",
              "      <td>0</td>\n",
              "      <td>0</td>\n",
              "      <td>0</td>\n",
              "      <td>0</td>\n",
              "      <td>0</td>\n",
              "      <td>0</td>\n",
              "      <td>0</td>\n",
              "      <td>0</td>\n",
              "      <td>0</td>\n",
              "      <td>0</td>\n",
              "      <td>0</td>\n",
              "      <td>1</td>\n",
              "      <td>0</td>\n",
              "      <td>0</td>\n",
              "      <td>0</td>\n",
              "      <td>0</td>\n",
              "      <td>0</td>\n",
              "      <td>0</td>\n",
              "      <td>0</td>\n",
              "      <td>0</td>\n",
              "      <td>0</td>\n",
              "      <td>0</td>\n",
              "      <td>0</td>\n",
              "      <td>0</td>\n",
              "      <td>0</td>\n",
              "      <td>0</td>\n",
              "      <td>0</td>\n",
              "      <td>0</td>\n",
              "      <td>0</td>\n",
              "      <td>0</td>\n",
              "      <td>0</td>\n",
              "      <td>0</td>\n",
              "      <td>1</td>\n",
              "      <td>0</td>\n",
              "      <td>0</td>\n",
              "      <td>0</td>\n",
              "      <td>0</td>\n",
              "      <td>0</td>\n",
              "      <td>0</td>\n",
              "      <td>0</td>\n",
              "      <td>0</td>\n",
              "      <td>0</td>\n",
              "      <td>0</td>\n",
              "      <td>0</td>\n",
              "      <td>0</td>\n",
              "      <td>0</td>\n",
              "      <td>0</td>\n",
              "      <td>0</td>\n",
              "      <td>1</td>\n",
              "      <td>0</td>\n",
              "      <td>0</td>\n",
              "      <td>0</td>\n",
              "      <td>0</td>\n",
              "      <td>0</td>\n",
              "      <td>0</td>\n",
              "      <td>0</td>\n",
              "      <td>0</td>\n",
              "      <td>0</td>\n",
              "      <td>0</td>\n",
              "      <td>0</td>\n",
              "      <td>0</td>\n",
              "      <td>0</td>\n",
              "      <td>0</td>\n",
              "      <td>0</td>\n",
              "      <td>0</td>\n",
              "      <td>0</td>\n",
              "      <td>0</td>\n",
              "      <td>0</td>\n",
              "      <td>0</td>\n",
              "      <td>0</td>\n",
              "      <td>0</td>\n",
              "      <td>0</td>\n",
              "      <td>58890</td>\n",
              "    </tr>\n",
              "    <tr>\n",
              "      <th>3</th>\n",
              "      <td>0</td>\n",
              "      <td>0</td>\n",
              "      <td>0</td>\n",
              "      <td>0</td>\n",
              "      <td>0</td>\n",
              "      <td>0</td>\n",
              "      <td>0</td>\n",
              "      <td>0</td>\n",
              "      <td>0</td>\n",
              "      <td>0</td>\n",
              "      <td>0</td>\n",
              "      <td>0</td>\n",
              "      <td>1</td>\n",
              "      <td>0</td>\n",
              "      <td>0</td>\n",
              "      <td>0</td>\n",
              "      <td>0</td>\n",
              "      <td>0</td>\n",
              "      <td>0</td>\n",
              "      <td>0</td>\n",
              "      <td>0</td>\n",
              "      <td>0</td>\n",
              "      <td>0</td>\n",
              "      <td>0</td>\n",
              "      <td>0</td>\n",
              "      <td>0</td>\n",
              "      <td>0</td>\n",
              "      <td>0</td>\n",
              "      <td>0</td>\n",
              "      <td>0</td>\n",
              "      <td>0</td>\n",
              "      <td>0</td>\n",
              "      <td>0</td>\n",
              "      <td>0</td>\n",
              "      <td>0</td>\n",
              "      <td>0</td>\n",
              "      <td>0</td>\n",
              "      <td>0</td>\n",
              "      <td>0</td>\n",
              "      <td>0</td>\n",
              "      <td>0</td>\n",
              "      <td>0</td>\n",
              "      <td>0</td>\n",
              "      <td>0</td>\n",
              "      <td>0</td>\n",
              "      <td>0</td>\n",
              "      <td>0</td>\n",
              "      <td>0</td>\n",
              "      <td>0</td>\n",
              "      <td>0</td>\n",
              "      <td>1</td>\n",
              "      <td>0</td>\n",
              "      <td>0</td>\n",
              "      <td>0</td>\n",
              "      <td>0</td>\n",
              "      <td>0</td>\n",
              "      <td>0</td>\n",
              "      <td>0</td>\n",
              "      <td>0</td>\n",
              "      <td>0</td>\n",
              "      <td>0</td>\n",
              "      <td>0</td>\n",
              "      <td>0</td>\n",
              "      <td>0</td>\n",
              "      <td>0</td>\n",
              "      <td>0</td>\n",
              "      <td>0</td>\n",
              "      <td>0</td>\n",
              "      <td>0</td>\n",
              "      <td>0</td>\n",
              "      <td>0</td>\n",
              "      <td>0</td>\n",
              "      <td>0</td>\n",
              "      <td>51055</td>\n",
              "    </tr>\n",
              "    <tr>\n",
              "      <th>4</th>\n",
              "      <td>0</td>\n",
              "      <td>0</td>\n",
              "      <td>0</td>\n",
              "      <td>0</td>\n",
              "      <td>0</td>\n",
              "      <td>0</td>\n",
              "      <td>0</td>\n",
              "      <td>0</td>\n",
              "      <td>0</td>\n",
              "      <td>0</td>\n",
              "      <td>0</td>\n",
              "      <td>0</td>\n",
              "      <td>0</td>\n",
              "      <td>1</td>\n",
              "      <td>0</td>\n",
              "      <td>0</td>\n",
              "      <td>0</td>\n",
              "      <td>0</td>\n",
              "      <td>0</td>\n",
              "      <td>0</td>\n",
              "      <td>0</td>\n",
              "      <td>0</td>\n",
              "      <td>0</td>\n",
              "      <td>0</td>\n",
              "      <td>0</td>\n",
              "      <td>0</td>\n",
              "      <td>0</td>\n",
              "      <td>0</td>\n",
              "      <td>0</td>\n",
              "      <td>0</td>\n",
              "      <td>0</td>\n",
              "      <td>0</td>\n",
              "      <td>0</td>\n",
              "      <td>1</td>\n",
              "      <td>0</td>\n",
              "      <td>0</td>\n",
              "      <td>0</td>\n",
              "      <td>0</td>\n",
              "      <td>0</td>\n",
              "      <td>0</td>\n",
              "      <td>0</td>\n",
              "      <td>0</td>\n",
              "      <td>0</td>\n",
              "      <td>0</td>\n",
              "      <td>0</td>\n",
              "      <td>0</td>\n",
              "      <td>0</td>\n",
              "      <td>0</td>\n",
              "      <td>0</td>\n",
              "      <td>0</td>\n",
              "      <td>0</td>\n",
              "      <td>0</td>\n",
              "      <td>0</td>\n",
              "      <td>1</td>\n",
              "      <td>0</td>\n",
              "      <td>0</td>\n",
              "      <td>0</td>\n",
              "      <td>0</td>\n",
              "      <td>0</td>\n",
              "      <td>0</td>\n",
              "      <td>0</td>\n",
              "      <td>0</td>\n",
              "      <td>0</td>\n",
              "      <td>0</td>\n",
              "      <td>0</td>\n",
              "      <td>0</td>\n",
              "      <td>0</td>\n",
              "      <td>0</td>\n",
              "      <td>0</td>\n",
              "      <td>0</td>\n",
              "      <td>0</td>\n",
              "      <td>0</td>\n",
              "      <td>0</td>\n",
              "      <td>70830</td>\n",
              "    </tr>\n",
              "  </tbody>\n",
              "</table>\n",
              "</div>"
            ],
            "text/plain": [
              "   main_S60_1  main_S60_2  main_type_SP100D  ...  sales_29  sales_30   MSRP\n",
              "0           0           0                 0  ...         0         0  44610\n",
              "1           0           0                 0  ...         0         0  41505\n",
              "2           0           0                 0  ...         0         0  58890\n",
              "3           0           0                 0  ...         0         0  51055\n",
              "4           0           0                 0  ...         0         0  70830\n",
              "\n",
              "[5 rows x 74 columns]"
            ]
          },
          "metadata": {
            "tags": []
          },
          "execution_count": 141
        }
      ]
    },
    {
      "cell_type": "markdown",
      "metadata": {
        "id": "qqdkmnCodnNC"
      },
      "source": [
        "### Read in the CSV file containing the California sales data for Quarters 3 and 4\n",
        "\n",
        "The `'dealer_state'` and `'date'` columns have already been eliminated in this dataset, so you don't need to worry about them here. Examine the data's shape and first few rows."
      ]
    },
    {
      "cell_type": "code",
      "metadata": {
        "id": "bJpTgHxAdnND",
        "colab": {
          "base_uri": "https://localhost:8080/",
          "height": 241
        },
        "outputId": "49212ccf-6b0e-49ca-fa79-171cf1a19dce"
      },
      "source": [
        "### START CODE HERE ###\n",
        "# Read in the Q34 data\n",
        "df_pred = pd.read_csv('sales_Q34_2019.csv')\n",
        "#_pred\n",
        "# Print the shape of the data\n",
        "print(df_pred.shape)\n",
        "# Examine the first few rows of the data\n",
        "df_pred.head(5)\n",
        "### END CODE HERE ###"
      ],
      "execution_count": 142,
      "outputs": [
        {
          "output_type": "stream",
          "text": [
            "(6666, 74)\n"
          ],
          "name": "stdout"
        },
        {
          "output_type": "execute_result",
          "data": {
            "text/html": [
              "<div>\n",
              "<style scoped>\n",
              "    .dataframe tbody tr th:only-of-type {\n",
              "        vertical-align: middle;\n",
              "    }\n",
              "\n",
              "    .dataframe tbody tr th {\n",
              "        vertical-align: top;\n",
              "    }\n",
              "\n",
              "    .dataframe thead th {\n",
              "        text-align: right;\n",
              "    }\n",
              "</style>\n",
              "<table border=\"1\" class=\"dataframe\">\n",
              "  <thead>\n",
              "    <tr style=\"text-align: right;\">\n",
              "      <th></th>\n",
              "      <th>main_S60_1</th>\n",
              "      <th>main_S60_2</th>\n",
              "      <th>main_type_SP100D</th>\n",
              "      <th>main_type_S60D_1</th>\n",
              "      <th>main_type_S60D_2</th>\n",
              "      <th>main_type_S70</th>\n",
              "      <th>main_type_S70D</th>\n",
              "      <th>main_type_S75</th>\n",
              "      <th>main_type_S75D</th>\n",
              "      <th>main_type_S80</th>\n",
              "      <th>main_type_S80D</th>\n",
              "      <th>main_type_S85</th>\n",
              "      <th>main_type_S85P</th>\n",
              "      <th>main_type_P85D</th>\n",
              "      <th>main_type_S90</th>\n",
              "      <th>main_type_S90D</th>\n",
              "      <th>main_type_S100D</th>\n",
              "      <th>engine_A</th>\n",
              "      <th>engine_B</th>\n",
              "      <th>engine_C</th>\n",
              "      <th>engine_D</th>\n",
              "      <th>engine_E</th>\n",
              "      <th>engine_F</th>\n",
              "      <th>engine_G</th>\n",
              "      <th>engine_H</th>\n",
              "      <th>engine_I</th>\n",
              "      <th>engine_J</th>\n",
              "      <th>engine_K</th>\n",
              "      <th>engine_L</th>\n",
              "      <th>engine_M</th>\n",
              "      <th>engine_N</th>\n",
              "      <th>engine_O</th>\n",
              "      <th>engine_P</th>\n",
              "      <th>engine_Q</th>\n",
              "      <th>engine_R</th>\n",
              "      <th>engine_S</th>\n",
              "      <th>engine_T</th>\n",
              "      <th>engine_U</th>\n",
              "      <th>engine_V</th>\n",
              "      <th>engine_W</th>\n",
              "      <th>engine_X</th>\n",
              "      <th>engine_Y</th>\n",
              "      <th>engine_Z</th>\n",
              "      <th>sales_1</th>\n",
              "      <th>sales_2</th>\n",
              "      <th>sales_3</th>\n",
              "      <th>sales_4</th>\n",
              "      <th>sales_5</th>\n",
              "      <th>sales_6</th>\n",
              "      <th>sales_7</th>\n",
              "      <th>sales_8</th>\n",
              "      <th>sales_9</th>\n",
              "      <th>sales_10</th>\n",
              "      <th>sales_11</th>\n",
              "      <th>sales_12</th>\n",
              "      <th>sales_13</th>\n",
              "      <th>sales_14</th>\n",
              "      <th>sales_15</th>\n",
              "      <th>sales_16</th>\n",
              "      <th>sales_17</th>\n",
              "      <th>sales_18</th>\n",
              "      <th>sales_19</th>\n",
              "      <th>sales_20</th>\n",
              "      <th>sales_21</th>\n",
              "      <th>sales_22</th>\n",
              "      <th>sales_23</th>\n",
              "      <th>sales_24</th>\n",
              "      <th>sales_25</th>\n",
              "      <th>sales_26</th>\n",
              "      <th>sales_27</th>\n",
              "      <th>sales_28</th>\n",
              "      <th>sales_29</th>\n",
              "      <th>sales_30</th>\n",
              "      <th>MSRP</th>\n",
              "    </tr>\n",
              "  </thead>\n",
              "  <tbody>\n",
              "    <tr>\n",
              "      <th>0</th>\n",
              "      <td>0</td>\n",
              "      <td>0</td>\n",
              "      <td>0</td>\n",
              "      <td>0</td>\n",
              "      <td>0</td>\n",
              "      <td>1</td>\n",
              "      <td>0</td>\n",
              "      <td>0</td>\n",
              "      <td>0</td>\n",
              "      <td>0</td>\n",
              "      <td>0</td>\n",
              "      <td>0</td>\n",
              "      <td>0</td>\n",
              "      <td>0</td>\n",
              "      <td>0</td>\n",
              "      <td>0</td>\n",
              "      <td>0</td>\n",
              "      <td>0</td>\n",
              "      <td>0</td>\n",
              "      <td>0</td>\n",
              "      <td>0</td>\n",
              "      <td>0</td>\n",
              "      <td>0</td>\n",
              "      <td>0</td>\n",
              "      <td>0</td>\n",
              "      <td>0</td>\n",
              "      <td>0</td>\n",
              "      <td>0</td>\n",
              "      <td>0</td>\n",
              "      <td>0</td>\n",
              "      <td>0</td>\n",
              "      <td>0</td>\n",
              "      <td>0</td>\n",
              "      <td>1</td>\n",
              "      <td>0</td>\n",
              "      <td>0</td>\n",
              "      <td>0</td>\n",
              "      <td>0</td>\n",
              "      <td>0</td>\n",
              "      <td>0</td>\n",
              "      <td>0</td>\n",
              "      <td>0</td>\n",
              "      <td>0</td>\n",
              "      <td>0</td>\n",
              "      <td>0</td>\n",
              "      <td>0</td>\n",
              "      <td>0</td>\n",
              "      <td>0</td>\n",
              "      <td>0</td>\n",
              "      <td>0</td>\n",
              "      <td>0</td>\n",
              "      <td>0</td>\n",
              "      <td>0</td>\n",
              "      <td>0</td>\n",
              "      <td>0</td>\n",
              "      <td>0</td>\n",
              "      <td>0</td>\n",
              "      <td>0</td>\n",
              "      <td>0</td>\n",
              "      <td>0</td>\n",
              "      <td>0</td>\n",
              "      <td>0</td>\n",
              "      <td>0</td>\n",
              "      <td>0</td>\n",
              "      <td>0</td>\n",
              "      <td>0</td>\n",
              "      <td>1</td>\n",
              "      <td>0</td>\n",
              "      <td>0</td>\n",
              "      <td>0</td>\n",
              "      <td>0</td>\n",
              "      <td>0</td>\n",
              "      <td>0</td>\n",
              "      <td>51355</td>\n",
              "    </tr>\n",
              "    <tr>\n",
              "      <th>1</th>\n",
              "      <td>0</td>\n",
              "      <td>0</td>\n",
              "      <td>0</td>\n",
              "      <td>0</td>\n",
              "      <td>0</td>\n",
              "      <td>0</td>\n",
              "      <td>0</td>\n",
              "      <td>0</td>\n",
              "      <td>0</td>\n",
              "      <td>0</td>\n",
              "      <td>0</td>\n",
              "      <td>0</td>\n",
              "      <td>0</td>\n",
              "      <td>1</td>\n",
              "      <td>0</td>\n",
              "      <td>0</td>\n",
              "      <td>0</td>\n",
              "      <td>0</td>\n",
              "      <td>0</td>\n",
              "      <td>0</td>\n",
              "      <td>0</td>\n",
              "      <td>0</td>\n",
              "      <td>0</td>\n",
              "      <td>0</td>\n",
              "      <td>0</td>\n",
              "      <td>0</td>\n",
              "      <td>0</td>\n",
              "      <td>0</td>\n",
              "      <td>0</td>\n",
              "      <td>0</td>\n",
              "      <td>0</td>\n",
              "      <td>0</td>\n",
              "      <td>0</td>\n",
              "      <td>1</td>\n",
              "      <td>0</td>\n",
              "      <td>0</td>\n",
              "      <td>0</td>\n",
              "      <td>0</td>\n",
              "      <td>0</td>\n",
              "      <td>0</td>\n",
              "      <td>0</td>\n",
              "      <td>0</td>\n",
              "      <td>0</td>\n",
              "      <td>0</td>\n",
              "      <td>0</td>\n",
              "      <td>0</td>\n",
              "      <td>0</td>\n",
              "      <td>0</td>\n",
              "      <td>0</td>\n",
              "      <td>0</td>\n",
              "      <td>0</td>\n",
              "      <td>0</td>\n",
              "      <td>0</td>\n",
              "      <td>1</td>\n",
              "      <td>0</td>\n",
              "      <td>0</td>\n",
              "      <td>0</td>\n",
              "      <td>0</td>\n",
              "      <td>0</td>\n",
              "      <td>0</td>\n",
              "      <td>0</td>\n",
              "      <td>0</td>\n",
              "      <td>0</td>\n",
              "      <td>0</td>\n",
              "      <td>0</td>\n",
              "      <td>0</td>\n",
              "      <td>0</td>\n",
              "      <td>0</td>\n",
              "      <td>0</td>\n",
              "      <td>0</td>\n",
              "      <td>0</td>\n",
              "      <td>0</td>\n",
              "      <td>0</td>\n",
              "      <td>71580</td>\n",
              "    </tr>\n",
              "    <tr>\n",
              "      <th>2</th>\n",
              "      <td>0</td>\n",
              "      <td>0</td>\n",
              "      <td>0</td>\n",
              "      <td>0</td>\n",
              "      <td>0</td>\n",
              "      <td>0</td>\n",
              "      <td>0</td>\n",
              "      <td>0</td>\n",
              "      <td>0</td>\n",
              "      <td>0</td>\n",
              "      <td>0</td>\n",
              "      <td>0</td>\n",
              "      <td>0</td>\n",
              "      <td>1</td>\n",
              "      <td>0</td>\n",
              "      <td>0</td>\n",
              "      <td>0</td>\n",
              "      <td>0</td>\n",
              "      <td>0</td>\n",
              "      <td>0</td>\n",
              "      <td>0</td>\n",
              "      <td>0</td>\n",
              "      <td>0</td>\n",
              "      <td>0</td>\n",
              "      <td>0</td>\n",
              "      <td>0</td>\n",
              "      <td>0</td>\n",
              "      <td>0</td>\n",
              "      <td>0</td>\n",
              "      <td>0</td>\n",
              "      <td>0</td>\n",
              "      <td>0</td>\n",
              "      <td>0</td>\n",
              "      <td>1</td>\n",
              "      <td>0</td>\n",
              "      <td>0</td>\n",
              "      <td>0</td>\n",
              "      <td>0</td>\n",
              "      <td>0</td>\n",
              "      <td>0</td>\n",
              "      <td>0</td>\n",
              "      <td>0</td>\n",
              "      <td>0</td>\n",
              "      <td>0</td>\n",
              "      <td>0</td>\n",
              "      <td>0</td>\n",
              "      <td>0</td>\n",
              "      <td>0</td>\n",
              "      <td>0</td>\n",
              "      <td>0</td>\n",
              "      <td>0</td>\n",
              "      <td>0</td>\n",
              "      <td>0</td>\n",
              "      <td>1</td>\n",
              "      <td>0</td>\n",
              "      <td>0</td>\n",
              "      <td>0</td>\n",
              "      <td>0</td>\n",
              "      <td>0</td>\n",
              "      <td>0</td>\n",
              "      <td>0</td>\n",
              "      <td>0</td>\n",
              "      <td>0</td>\n",
              "      <td>0</td>\n",
              "      <td>0</td>\n",
              "      <td>0</td>\n",
              "      <td>0</td>\n",
              "      <td>0</td>\n",
              "      <td>0</td>\n",
              "      <td>0</td>\n",
              "      <td>0</td>\n",
              "      <td>0</td>\n",
              "      <td>0</td>\n",
              "      <td>66790</td>\n",
              "    </tr>\n",
              "    <tr>\n",
              "      <th>3</th>\n",
              "      <td>0</td>\n",
              "      <td>0</td>\n",
              "      <td>0</td>\n",
              "      <td>0</td>\n",
              "      <td>0</td>\n",
              "      <td>0</td>\n",
              "      <td>0</td>\n",
              "      <td>0</td>\n",
              "      <td>0</td>\n",
              "      <td>0</td>\n",
              "      <td>0</td>\n",
              "      <td>0</td>\n",
              "      <td>0</td>\n",
              "      <td>1</td>\n",
              "      <td>0</td>\n",
              "      <td>0</td>\n",
              "      <td>0</td>\n",
              "      <td>0</td>\n",
              "      <td>0</td>\n",
              "      <td>0</td>\n",
              "      <td>0</td>\n",
              "      <td>0</td>\n",
              "      <td>0</td>\n",
              "      <td>0</td>\n",
              "      <td>0</td>\n",
              "      <td>0</td>\n",
              "      <td>0</td>\n",
              "      <td>0</td>\n",
              "      <td>0</td>\n",
              "      <td>0</td>\n",
              "      <td>0</td>\n",
              "      <td>0</td>\n",
              "      <td>0</td>\n",
              "      <td>1</td>\n",
              "      <td>0</td>\n",
              "      <td>0</td>\n",
              "      <td>0</td>\n",
              "      <td>0</td>\n",
              "      <td>0</td>\n",
              "      <td>0</td>\n",
              "      <td>0</td>\n",
              "      <td>0</td>\n",
              "      <td>0</td>\n",
              "      <td>0</td>\n",
              "      <td>0</td>\n",
              "      <td>0</td>\n",
              "      <td>0</td>\n",
              "      <td>0</td>\n",
              "      <td>0</td>\n",
              "      <td>0</td>\n",
              "      <td>0</td>\n",
              "      <td>0</td>\n",
              "      <td>0</td>\n",
              "      <td>1</td>\n",
              "      <td>0</td>\n",
              "      <td>0</td>\n",
              "      <td>0</td>\n",
              "      <td>0</td>\n",
              "      <td>0</td>\n",
              "      <td>0</td>\n",
              "      <td>0</td>\n",
              "      <td>0</td>\n",
              "      <td>0</td>\n",
              "      <td>0</td>\n",
              "      <td>0</td>\n",
              "      <td>0</td>\n",
              "      <td>0</td>\n",
              "      <td>0</td>\n",
              "      <td>0</td>\n",
              "      <td>0</td>\n",
              "      <td>0</td>\n",
              "      <td>0</td>\n",
              "      <td>0</td>\n",
              "      <td>72330</td>\n",
              "    </tr>\n",
              "    <tr>\n",
              "      <th>4</th>\n",
              "      <td>0</td>\n",
              "      <td>0</td>\n",
              "      <td>0</td>\n",
              "      <td>0</td>\n",
              "      <td>0</td>\n",
              "      <td>0</td>\n",
              "      <td>0</td>\n",
              "      <td>0</td>\n",
              "      <td>0</td>\n",
              "      <td>0</td>\n",
              "      <td>0</td>\n",
              "      <td>0</td>\n",
              "      <td>1</td>\n",
              "      <td>0</td>\n",
              "      <td>0</td>\n",
              "      <td>0</td>\n",
              "      <td>0</td>\n",
              "      <td>0</td>\n",
              "      <td>0</td>\n",
              "      <td>0</td>\n",
              "      <td>0</td>\n",
              "      <td>0</td>\n",
              "      <td>0</td>\n",
              "      <td>0</td>\n",
              "      <td>0</td>\n",
              "      <td>0</td>\n",
              "      <td>0</td>\n",
              "      <td>0</td>\n",
              "      <td>0</td>\n",
              "      <td>0</td>\n",
              "      <td>0</td>\n",
              "      <td>0</td>\n",
              "      <td>0</td>\n",
              "      <td>1</td>\n",
              "      <td>0</td>\n",
              "      <td>0</td>\n",
              "      <td>0</td>\n",
              "      <td>0</td>\n",
              "      <td>0</td>\n",
              "      <td>0</td>\n",
              "      <td>0</td>\n",
              "      <td>0</td>\n",
              "      <td>0</td>\n",
              "      <td>1</td>\n",
              "      <td>0</td>\n",
              "      <td>0</td>\n",
              "      <td>0</td>\n",
              "      <td>0</td>\n",
              "      <td>0</td>\n",
              "      <td>0</td>\n",
              "      <td>0</td>\n",
              "      <td>0</td>\n",
              "      <td>0</td>\n",
              "      <td>0</td>\n",
              "      <td>0</td>\n",
              "      <td>0</td>\n",
              "      <td>0</td>\n",
              "      <td>0</td>\n",
              "      <td>0</td>\n",
              "      <td>0</td>\n",
              "      <td>0</td>\n",
              "      <td>0</td>\n",
              "      <td>0</td>\n",
              "      <td>0</td>\n",
              "      <td>0</td>\n",
              "      <td>0</td>\n",
              "      <td>0</td>\n",
              "      <td>0</td>\n",
              "      <td>0</td>\n",
              "      <td>0</td>\n",
              "      <td>0</td>\n",
              "      <td>0</td>\n",
              "      <td>0</td>\n",
              "      <td>55370</td>\n",
              "    </tr>\n",
              "  </tbody>\n",
              "</table>\n",
              "</div>"
            ],
            "text/plain": [
              "   main_S60_1  main_S60_2  main_type_SP100D  ...  sales_29  sales_30   MSRP\n",
              "0           0           0                 0  ...         0         0  51355\n",
              "1           0           0                 0  ...         0         0  71580\n",
              "2           0           0                 0  ...         0         0  66790\n",
              "3           0           0                 0  ...         0         0  72330\n",
              "4           0           0                 0  ...         0         0  55370\n",
              "\n",
              "[5 rows x 74 columns]"
            ]
          },
          "metadata": {
            "tags": []
          },
          "execution_count": 142
        }
      ]
    },
    {
      "cell_type": "code",
      "metadata": {
        "colab": {
          "base_uri": "https://localhost:8080/"
        },
        "id": "siNiJoDRJP_G",
        "outputId": "4ca8a3c4-588f-4fa1-d7ed-059cde17fe05"
      },
      "source": [
        "df_pred.info()"
      ],
      "execution_count": 143,
      "outputs": [
        {
          "output_type": "stream",
          "text": [
            "<class 'pandas.core.frame.DataFrame'>\n",
            "RangeIndex: 6666 entries, 0 to 6665\n",
            "Data columns (total 74 columns):\n",
            " #   Column            Non-Null Count  Dtype\n",
            "---  ------            --------------  -----\n",
            " 0   main_S60_1        6666 non-null   int64\n",
            " 1   main_S60_2        6666 non-null   int64\n",
            " 2   main_type_SP100D  6666 non-null   int64\n",
            " 3   main_type_S60D_1  6666 non-null   int64\n",
            " 4   main_type_S60D_2  6666 non-null   int64\n",
            " 5   main_type_S70     6666 non-null   int64\n",
            " 6   main_type_S70D    6666 non-null   int64\n",
            " 7   main_type_S75     6666 non-null   int64\n",
            " 8   main_type_S75D    6666 non-null   int64\n",
            " 9   main_type_S80     6666 non-null   int64\n",
            " 10  main_type_S80D    6666 non-null   int64\n",
            " 11  main_type_S85     6666 non-null   int64\n",
            " 12  main_type_S85P    6666 non-null   int64\n",
            " 13  main_type_P85D    6666 non-null   int64\n",
            " 14  main_type_S90     6666 non-null   int64\n",
            " 15  main_type_S90D    6666 non-null   int64\n",
            " 16  main_type_S100D   6666 non-null   int64\n",
            " 17  engine_A          6666 non-null   int64\n",
            " 18  engine_B          6666 non-null   int64\n",
            " 19  engine_C          6666 non-null   int64\n",
            " 20  engine_D          6666 non-null   int64\n",
            " 21  engine_E          6666 non-null   int64\n",
            " 22  engine_F          6666 non-null   int64\n",
            " 23  engine_G          6666 non-null   int64\n",
            " 24  engine_H          6666 non-null   int64\n",
            " 25  engine_I          6666 non-null   int64\n",
            " 26  engine_J          6666 non-null   int64\n",
            " 27  engine_K          6666 non-null   int64\n",
            " 28  engine_L          6666 non-null   int64\n",
            " 29  engine_M          6666 non-null   int64\n",
            " 30  engine_N          6666 non-null   int64\n",
            " 31  engine_O          6666 non-null   int64\n",
            " 32  engine_P          6666 non-null   int64\n",
            " 33  engine_Q          6666 non-null   int64\n",
            " 34  engine_R          6666 non-null   int64\n",
            " 35  engine_S          6666 non-null   int64\n",
            " 36  engine_T          6666 non-null   int64\n",
            " 37  engine_U          6666 non-null   int64\n",
            " 38  engine_V          6666 non-null   int64\n",
            " 39  engine_W          6666 non-null   int64\n",
            " 40  engine_X          6666 non-null   int64\n",
            " 41  engine_Y          6666 non-null   int64\n",
            " 42  engine_Z          6666 non-null   int64\n",
            " 43  sales_1           6666 non-null   int64\n",
            " 44  sales_2           6666 non-null   int64\n",
            " 45  sales_3           6666 non-null   int64\n",
            " 46  sales_4           6666 non-null   int64\n",
            " 47  sales_5           6666 non-null   int64\n",
            " 48  sales_6           6666 non-null   int64\n",
            " 49  sales_7           6666 non-null   int64\n",
            " 50  sales_8           6666 non-null   int64\n",
            " 51  sales_9           6666 non-null   int64\n",
            " 52  sales_10          6666 non-null   int64\n",
            " 53  sales_11          6666 non-null   int64\n",
            " 54  sales_12          6666 non-null   int64\n",
            " 55  sales_13          6666 non-null   int64\n",
            " 56  sales_14          6666 non-null   int64\n",
            " 57  sales_15          6666 non-null   int64\n",
            " 58  sales_16          6666 non-null   int64\n",
            " 59  sales_17          6666 non-null   int64\n",
            " 60  sales_18          6666 non-null   int64\n",
            " 61  sales_19          6666 non-null   int64\n",
            " 62  sales_20          6666 non-null   int64\n",
            " 63  sales_21          6666 non-null   int64\n",
            " 64  sales_22          6666 non-null   int64\n",
            " 65  sales_23          6666 non-null   int64\n",
            " 66  sales_24          6666 non-null   int64\n",
            " 67  sales_25          6666 non-null   int64\n",
            " 68  sales_26          6666 non-null   int64\n",
            " 69  sales_27          6666 non-null   int64\n",
            " 70  sales_28          6666 non-null   int64\n",
            " 71  sales_29          6666 non-null   int64\n",
            " 72  sales_30          6666 non-null   int64\n",
            " 73  MSRP              6666 non-null   int64\n",
            "dtypes: int64(74)\n",
            "memory usage: 3.8 MB\n"
          ],
          "name": "stdout"
        }
      ]
    },
    {
      "cell_type": "markdown",
      "metadata": {
        "id": "kcmsU-T1dnNF"
      },
      "source": [
        "# Task I. Consolidate data by finding numbers of unique car combinations sold for training and test data sets\n",
        "\n",
        "You've probably noticed that 73 of the 74 columns in our Q12 and Q34 datasets are one-hot-encoded representations of the car's `'main_type'`, `'engine'`, and `'sales_version'` values. You've probably also noticed that the final column is the car's `'MSRP'`, or manufacturer's (Tesla's, in this case) suggested retail price. In its current form, the sales data doesn't contain a target. The car's `'main_type'`, `'engine'`, `'sales_version'`, and `'MSRP'` values are all known to us before the time of the sale and do not, by themselves, offer us anything which we can predict. \n",
        "\n",
        "However, each row represents the sale of a single car. If we define a unique car type by its combination of `'main_type'`, `'engine'`, and `'sales_version'` values, the number of rows displaying that combination corresponds to the number of times during that half of the year that that distinct type of car was sold in California. Therefore, we can make training and test datasets where each row now corresponds to a unique car type, and the target value is how many times that car type was sold in California during a given half of the year.\n",
        "\n",
        "## This task requires data wrangling!\n",
        "## Create functions that read the Q12 (df_sales) and Q34 (df_pred) data sets and create train_X, train_Y, test_X and test_Y, respectively. Use pandas and NumPy as needed.\n",
        "\n",
        "train_X, test_X = unique row combinations without MSRP column\n",
        "\n",
        "train_Y, test_Y = number of unique cars sold"
      ]
    },
    {
      "cell_type": "code",
      "metadata": {
        "id": "TcwAjn_IK3qY"
      },
      "source": [
        "# data = df_sales.drop(columns='MSRP')\n",
        "# Y = data.value_counts()\n",
        "# data.columns\n",
        "# np.array(data.value_counts())\n",
        "# subset_names = data.columns\n",
        "# X = df_sales.drop_duplicates(subset=subset_names)\n",
        "# X = np.array(X)\n",
        "# X[:,-1] = ( X[:,-1] - min(X[:,-1]) ) / np.ptp(X[:,-1])\n"
      ],
      "execution_count": 144,
      "outputs": []
    },
    {
      "cell_type": "code",
      "metadata": {
        "id": "qRlSIcDGhJ74"
      },
      "source": [
        "def get_features_and_targets(df):\n",
        "    ### START CODE HERE ###\n",
        "    # Create the local data DataFrame as a copy of the input df DataFrame, minus the 'MSRP' column\n",
        "    data = df.drop(columns=['MSRP'])\n",
        "    \n",
        "    # Use the value_counts() method for DataFrames to store the targets as a NumPy array of the \n",
        "    # normalized sales counts associated with each unique combination of 'main_type', 'engine', \n",
        "    # and 'sales_version' values in the data DataFrame\n",
        "    # Make sure the counts are unsorted, so they're listed in order of the combination's first appearance\n",
        "    # in the data DataFrame, and that the array is 2D, with 1 entry per row\n",
        "    Y = np.array(data.value_counts(sort=False, normalize=True))[:,np.newaxis]\n",
        "    # Get a list of the column names of the data DataFrame\n",
        "    subset_names = data.columns.values.tolist()\n",
        "    # Use the drop_duplicates() method on the df DataFrame to store the features data as a NumPy array where\n",
        "    # each row corresponds to a unique combination of 'main_type', 'engine', and 'sales_version' values\n",
        "    # Make sure to set the subset parameter to subset_names, so the 'MSRP' column isn't included in the \n",
        "    # uniqueness calculations\n",
        "    X = df.drop_duplicates(subset=subset_names)\n",
        "    X = np.array(X)\n",
        "    # Scale and shift the 'MSRP' column so its values fall in the range [0,1]\n",
        "    # You might find NumPy's ptp() function useful\n",
        "    X[:,-1] = ( X[:,-1] - min(X[:,-1]) ) / np.ptp(X[:,-1])\n",
        "    # Return features and targets\n",
        "    return X, Y\n",
        "    ### END CODE HERE ###"
      ],
      "execution_count": 145,
      "outputs": []
    },
    {
      "cell_type": "markdown",
      "metadata": {
        "id": "toTX3W89fX2P"
      },
      "source": [
        "### Extract features and targets as defined above from both the Q12 and Q34 datasets"
      ]
    },
    {
      "cell_type": "code",
      "metadata": {
        "id": "Rf6Vj0ujhJ77",
        "colab": {
          "base_uri": "https://localhost:8080/"
        },
        "outputId": "109fe904-1e67-47e3-b9c7-3b398792e64d"
      },
      "source": [
        "### START CODE HERE ###\n",
        "# Extract training features and targets from the Q12 data\n",
        "train_X, train_Y = get_features_and_targets(df_sales)\n",
        "# Extract test features and targets from the Q34 data\n",
        "test_X, test_Y = get_features_and_targets(df_pred)\n",
        "### END CODE HERE ###\n",
        "print(f\"Number of unique cars in Q12 = {len(train_Y)}\")\n",
        "print(f\"Number of unique cars in Q34 = {len(test_Y)}\")"
      ],
      "execution_count": 146,
      "outputs": [
        {
          "output_type": "stream",
          "text": [
            "Number of unique cars in Q12 = 66\n",
            "Number of unique cars in Q34 = 71\n"
          ],
          "name": "stdout"
        }
      ]
    },
    {
      "cell_type": "markdown",
      "metadata": {
        "id": "8d7BSjsQdnNV"
      },
      "source": [
        "You probably noticed that the Q12 and Q34 datasets contained differing numbers of distinct cars. Clearly, some new models were introduced by Q3, but were any discontinued by the end of Q2? Let's find out."
      ]
    },
    {
      "cell_type": "code",
      "metadata": {
        "id": "luGBEZB5hJ8A",
        "colab": {
          "base_uri": "https://localhost:8080/"
        },
        "outputId": "123ae481-6de8-4582-fb0a-7b5d83d24b3a"
      },
      "source": [
        "# How many unique cars in 2012 (Q1:Q4)?\n",
        "### START CODE HERE ### \n",
        "# Concatenate the Q12 and Q34 DataFrames into a single DataFrame\n",
        "df_full = pd.concat([df_sales, df_pred])\n",
        "# Extract features and targets from the concatenated Q14 data\n",
        "data_X, data_Y = get_features_and_targets(df_full)\n",
        "### END CODE HERE ###\n",
        "print(f\"Number of unique cars in Q12 and Q34 = {len(data_Y)}\")"
      ],
      "execution_count": 147,
      "outputs": [
        {
          "output_type": "stream",
          "text": [
            "Number of unique cars in Q12 and Q34 = 80\n"
          ],
          "name": "stdout"
        }
      ]
    },
    {
      "cell_type": "markdown",
      "metadata": {
        "id": "AGEXB0mCdnNb"
      },
      "source": [
        "The following probability equations are true for any two events $A$ and $B$:\n",
        "\n",
        "$$P (A \\cup B) = P(A) + P(B) - P (A \\cap B)$$\n",
        "$$P(A) = P (A \\cap B) + P (A \\cap B^c)$$\n",
        "\n",
        "Use them to determine how many car models were sold in both halves of 2019, how many were discontinued by the second half of the year, and how many were launched in the second half of the year."
      ]
    },
    {
      "cell_type": "code",
      "metadata": {
        "id": "Hewxl1lMf-VF",
        "colab": {
          "base_uri": "https://localhost:8080/"
        },
        "outputId": "9acf2aaf-fa50-4942-c4be-9acf1f82c910"
      },
      "source": [
        "### START CODE HERE ###\n",
        "models_q12_or_q34 = len(data_Y)\n",
        "models_q12 = len(train_Y)\n",
        "models_q34 = len(test_Y)\n",
        "models_q14 = models_q12 + models_q34 - models_q12_or_q34\n",
        "discontinued = models_q12 - models_q14\n",
        "launched = models_q34 - models_q14\n",
        "print(f\"{models_q14} models were sold throughout 2019\")\n",
        "print(f\"{discontinued} models were discontinued by the second half of 2019\")\n",
        "print(f\"{launched} models were launched in the second half of 2019\")\n",
        "### END CODE HERE ###"
      ],
      "execution_count": 172,
      "outputs": [
        {
          "output_type": "stream",
          "text": [
            "57 models were sold throughout 2019\n",
            "9 models were discontinued by the second half of 2019\n",
            "14 models were launched in the second half of 2019\n"
          ],
          "name": "stdout"
        }
      ]
    },
    {
      "cell_type": "markdown",
      "metadata": {
        "id": "3qn6SNBNdnNb"
      },
      "source": [
        "# Task II: Visualize the training and test targets any way you see fit"
      ]
    },
    {
      "cell_type": "code",
      "metadata": {
        "id": "RsuuxEqhjD6q",
        "colab": {
          "base_uri": "https://localhost:8080/",
          "height": 265
        },
        "outputId": "8380f563-8b91-4545-d7f9-53abc56e6d7a"
      },
      "source": [
        "# Visualize the training targets\n",
        "### START CODE HERE ###\n",
        "plt.scatter(range(len(train_Y)), train_Y)\n",
        "plt.show()\n",
        "### END CODE HERE ###"
      ],
      "execution_count": 170,
      "outputs": [
        {
          "output_type": "display_data",
          "data": {
            "image/png": "[encoded data removed]",
            "text/plain": [
              "<Figure size 432x288 with 1 Axes>"
            ]
          },
          "metadata": {
            "tags": [],
            "needs_background": "light"
          }
        }
      ]
    },
    {
      "cell_type": "code",
      "metadata": {
        "id": "gyGN9vqLdnNe",
        "colab": {
          "base_uri": "https://localhost:8080/",
          "height": 265
        },
        "outputId": "bbdf8eed-e60d-49f7-a9cb-1d1bbb8d11da"
      },
      "source": [
        "# Visualize the test targets\n",
        "### START CODE HERE ###\n",
        "plt.scatter(range(len(test_Y)), test_Y)\n",
        "plt.show()\n",
        "### END CODE HERE ###"
      ],
      "execution_count": 171,
      "outputs": [
        {
          "output_type": "display_data",
          "data": {
            "image/png": "[encoded data removed]",
            "text/plain": [
              "<Figure size 432x288 with 1 Axes>"
            ]
          },
          "metadata": {
            "tags": [],
            "needs_background": "light"
          }
        }
      ]
    },
    {
      "cell_type": "markdown",
      "metadata": {
        "id": "9g-2fwgydnNh"
      },
      "source": [
        "# Task III: Apply Gradient Descent (Linear, Polynomial)"
      ]
    },
    {
      "cell_type": "markdown",
      "metadata": {
        "id": "fXjeuMN3dnNh"
      },
      "source": [
        "Initialize the $\\theta$ parameters as a column vector of zeros, one for every feature in the training data plus one for bias. \n",
        "\n",
        "Also set hyperparameters for learning rate and maximum number of iterations through the training data."
      ]
    },
    {
      "cell_type": "code",
      "metadata": {
        "id": "bq--V5vSdnNi"
      },
      "source": [
        "# Initialize learned parameters theta and hyperparameters\n",
        "s_theta = np.zeros((train_X.shape[1]+1, 1))\n",
        "s_learning_rate = 0.001\n",
        "s_max_iteration = 1000"
      ],
      "execution_count": 151,
      "outputs": []
    },
    {
      "cell_type": "markdown",
      "metadata": {
        "id": "Lx-wS125dnNk"
      },
      "source": [
        "### Hypothesis Function\n",
        "\n",
        "Define your hypothesis function $h$ (which you use to make predictions $\\hat{Y}$ as the matrix product of your features data X and parameters theta, in that order. \n",
        "\n",
        "Don't forget to add a 0th column of ones to X to account for the bias/offset parameter."
      ]
    },
    {
      "cell_type": "code",
      "metadata": {
        "id": "SI8oTUQsdnNk"
      },
      "source": [
        "# Define your hypothesis function according to the instructions above\n",
        "def h (theta, X) :\n",
        "    ### START CODE HERE ###\n",
        "    if len(X.shape) > 1:\n",
        "      tmp = np.ones((X.shape[0],1 + X.shape[1]))\n",
        "    else:\n",
        "      tmp = np.ones((1,1 + X.shape[0]))\n",
        "    tmp[:,1:] = X\n",
        "\n",
        "    # tempX = np.ones((X.shape[0], X.shape[1] + 1))\n",
        "    # tempX[:,1:] = X\n",
        "    return np.matmul(tmp, theta)\n",
        "    ### END CODE HERE ###"
      ],
      "execution_count": 152,
      "outputs": []
    },
    {
      "cell_type": "markdown",
      "metadata": {
        "id": "7LW5F5uhdnNm"
      },
      "source": [
        "Define your loss function as **half** the MSE (mean squared error) between your actual and predicted Y values. \n",
        "\n",
        "Recall that the predicted Y values are a function of theta and X.\n"
      ]
    },
    {
      "cell_type": "code",
      "metadata": {
        "id": "KzRpZec4dnNm"
      },
      "source": [
        "# Loss Function\n",
        "def loss (theta, X, Y) :\n",
        "    ### START CODE HERE ###\n",
        "    return 0.5 * np.average(np.square(Y-h(theta, X)))\n",
        "    ### END CODE HERE ###"
      ],
      "execution_count": 153,
      "outputs": []
    },
    {
      "cell_type": "markdown",
      "metadata": {
        "id": "PCLgRXivdnNp"
      },
      "source": [
        "### Gradient of Hypothesis Function\n",
        "\n",
        "One can verify through straightforward (if somewhat tedious) multivariable calculus that the gradient of the loss function $J$ with respect to the parameters $\\theta$ is \n",
        "\n",
        "$$ \\frac{\\partial J}{\\partial \\theta} = - \\frac{1}{m} X^T \\cdot (Y - \\hat{Y})$$.\n",
        "\n",
        "Here, $X$ has been augmented with a bias column. \n",
        "\n",
        "Set up a function to compute this gradient."
      ]
    },
    {
      "cell_type": "code",
      "metadata": {
        "id": "3zYnvBa1dnNp"
      },
      "source": [
        "def gradient (theta, X, Y) :\n",
        "    ### START CODE HERE ###\n",
        "    # # Create a temporary X array with an added 0th bias column\n",
        "    # tempX = np.ones((X.shape[0], X.shape[1] + 1))\n",
        "    # tempX[:,1:] = X\n",
        "    # # Compute the gradient according to the instructions above\n",
        "    # d_theta = - np.average((Y - h(theta, X)) * tempX, axis= 0)\n",
        "    # d_theta = d_theta.reshape((d_theta.shape[0],1))\n",
        "    # ### END CODE HERE ###\n",
        "    # return d_theta\n",
        "    \n",
        "    if len(X.shape) > 1:\n",
        "      tmp = np.ones((X.shape[0],1 + X.shape[1]))\n",
        "    else:\n",
        "      tmp = np.ones((1,1 + X.shape[0]))\n",
        "    tmp[:,1:] = X\n",
        "    # Compute the gradient according to the instructions above\n",
        "    y_pred = h(theta, X)\n",
        "    d_theta = -1 / (tmp.shape[0]) * np.dot(tmp.T,(Y - y_pred))\n",
        "    return d_theta"
      ],
      "execution_count": 154,
      "outputs": []
    },
    {
      "cell_type": "markdown",
      "metadata": {
        "id": "fo-NxmSLdnNr"
      },
      "source": [
        "### Gradient Descent\n",
        "\n",
        "Set up a function to train your linear regression model with gradient descent, i.e. calculate $\\frac{\\partial J}{\\partial \\theta}$ and update $\\theta$. Recall that the general gradient descent update formula is $\\theta := \\theta - \\alpha \\frac{\\partial J}{\\partial \\theta}$. We've provided the skeleton of a stochastic gradient descent function, but you're welcome to experiment with batch and/or minibatch gradient descent. Also recall that the aforementioned gradient descent methods differ in how frequently they calculate $\\frac{\\partial J}{\\partial \\theta}$ and update $\\theta$. "
      ]
    },
    {
      "cell_type": "code",
      "metadata": {
        "id": "g6hbmDgkdnNs"
      },
      "source": [
        "def stochastic_gradient_descent (theta, X, Y, learning_rate, max_iteration, gap) :\n",
        "    ### START CODE HERE ###\n",
        "    # Initialize the cost as an array of zeros, one for each iteration through the dataset\n",
        "    cost = np.zeros(max_iteration)\n",
        "    # Loop over the dataset\n",
        "    for i in range(max_iteration):\n",
        "        # Loop over each row in the dataset\n",
        "        for j in range(X.shape[0]):\n",
        "            # Compute the gradient from the current row in X and the associated Y value\n",
        "            # Make sure that both X and Y are represented as 2D row vectors\n",
        "            #d_theta = gradient(theta, X[j,:].reshape(1, X.shape[1]), Y[j,:].reshape(1, 1))\n",
        "            d_theta = gradient(theta, X[j,:], Y[j])\n",
        "            # Update theta\n",
        "            theta = theta - learning_rate * d_theta\n",
        "        # Update the cost array for the current iteration\n",
        "        cost[i] = loss(theta, X, Y)\n",
        "    ### END CODE HERE ###\n",
        "        if i % gap == 0 :\n",
        "            print ('iteration : ', i, ' loss : ', loss(theta, X, Y)) \n",
        "    return theta, cost"
      ],
      "execution_count": 155,
      "outputs": []
    },
    {
      "cell_type": "code",
      "metadata": {
        "id": "O084UJ8UdnNt",
        "colab": {
          "base_uri": "https://localhost:8080/"
        },
        "outputId": "8ac29f3c-08b3-477d-f1f1-0365187263e8"
      },
      "source": [
        "s_theta, s_cost = stochastic_gradient_descent(s_theta, train_X, train_Y, s_learning_rate, s_max_iteration, 100)"
      ],
      "execution_count": 156,
      "outputs": [
        {
          "output_type": "stream",
          "text": [
            "iteration :  0  loss :  0.0004206533214992532\n",
            "iteration :  100  loss :  0.0002422983467552357\n",
            "iteration :  200  loss :  0.00021788868167880285\n",
            "iteration :  300  loss :  0.00020533288342740923\n",
            "iteration :  400  loss :  0.00019779653985861766\n",
            "iteration :  500  loss :  0.00019286413605363375\n",
            "iteration :  600  loss :  0.0001894284804626956\n",
            "iteration :  700  loss :  0.00018691690844249828\n",
            "iteration :  800  loss :  0.00018500756875786407\n",
            "iteration :  900  loss :  0.0001835079702943847\n"
          ],
          "name": "stdout"
        }
      ]
    },
    {
      "cell_type": "markdown",
      "metadata": {
        "id": "B6D2kqejdnNv"
      },
      "source": [
        "### Generate Predictions from Test Data"
      ]
    },
    {
      "cell_type": "code",
      "metadata": {
        "id": "m-u3iTbNdnNw"
      },
      "source": [
        "### START CODE HERE ###\n",
        "GD_P = h(s_theta, test_X)\n",
        "### END CODE HERE ###\n",
        "# Set any negative predictions to 0\n",
        "GD_P[GD_P<0] = 0"
      ],
      "execution_count": 157,
      "outputs": []
    },
    {
      "cell_type": "markdown",
      "metadata": {
        "id": "2ImYOho6dnNy"
      },
      "source": [
        "### Visualize the predicted and actual test labels"
      ]
    },
    {
      "cell_type": "code",
      "metadata": {
        "id": "Ljk24gJ4dnNy",
        "colab": {
          "base_uri": "https://localhost:8080/",
          "height": 282
        },
        "outputId": "fccbaf39-1cae-4c15-912a-c0af47093fe6"
      },
      "source": [
        "plt.scatter(range(len(test_Y)), test_Y,  color='black')\n",
        "plt.scatter(range(len(GD_P)), GD_P, color='blue', linewidth=3)\n",
        "from sklearn.metrics import mean_squared_error as MSE\n",
        "\n",
        "# This function evaluates the R**2 statistic\n",
        "# Source: https://stackoverflow.com/questions/893657/how-do-i-calculate-r-squared-using-python-and-numpy\n",
        "def r2(Yt,Yp):\n",
        "    yhat = Yp                         \n",
        "    ybar = np.sum(Yt)/len(Yt)          \n",
        "    ssreg = np.sum((yhat-ybar)**2)   \n",
        "    sstot = np.sum((Yt - ybar)**2)    \n",
        "    results = ssreg / sstot\n",
        "    return results\n",
        "\n",
        "\n",
        "print(\"RMSE, R2 using SGD=\", MSE(test_Y,GD_P), r2(test_Y,GD_P))"
      ],
      "execution_count": 158,
      "outputs": [
        {
          "output_type": "stream",
          "text": [
            "RMSE, R2 using SGD= 0.000518924229453394 0.6939013195958598\n"
          ],
          "name": "stdout"
        },
        {
          "output_type": "display_data",
          "data": {
            "image/png": "[encoded data removed]",
            "text/plain": [
              "<Figure size 432x288 with 1 Axes>"
            ]
          },
          "metadata": {
            "tags": [],
            "needs_background": "light"
          }
        }
      ]
    },
    {
      "cell_type": "markdown",
      "metadata": {
        "id": "QNFkAA7gdnN0"
      },
      "source": [
        "# Task IV: Normal Equations\n",
        "\n",
        "Since our training dataset isn't very large, let's generate predictions using the normal equations: \n",
        "\n",
        "$$W = (X^T \\cdot X)^{-1} \\cdot X^T \\cdot Y$$ \n",
        "$$\\hat{Y} = X \\cdot W$$\n",
        "\n",
        "and see how they compare to the predictions which we obtained from gradient descent.\n",
        "Ensure $$Y=[nx1], W=[dx1], X[nxd]$$ dimensions, respectively."
      ]
    },
    {
      "cell_type": "code",
      "metadata": {
        "id": "ez7XC2qQdnN1"
      },
      "source": [
        "### START CODE HERE ###\n",
        "# Compute the inverse of the matrix product of the transpose of X and X\n",
        "inv1 = np.linalg.pinv(np.matmul(train_X.T, train_X))\n",
        "# Compute W using the first of the Normal Equations\n",
        "W1 = np.matmul(np.matmul(inv1, train_X.T), train_Y)\n",
        "# Compute the predicted Y values using the second of the Normal Equations\n",
        "PN1 = np.matmul(test_X, W1)\n",
        "### END CODE HERE ###\n",
        "\n",
        "# Set any negative predictions to 0\n",
        "PN1[np.where(PN1<0)]=0"
      ],
      "execution_count": 98,
      "outputs": []
    },
    {
      "cell_type": "code",
      "metadata": {
        "id": "lu9NjgsJdnN3",
        "scrolled": true,
        "colab": {
          "base_uri": "https://localhost:8080/",
          "height": 302
        },
        "outputId": "8519c0a9-d125-4c72-adb7-6e67880a344d"
      },
      "source": [
        "# Plot outputs\n",
        "plt.scatter(range(len(test_Y)), test_Y,  color='black')\n",
        "plt.scatter(range(len(PN1)), PN1, color='blue', linewidth=3)\n",
        "print(\"RMSE, R2 for prediction all features =\", MSE(test_Y,PN1), r2(test_Y,PN1)) #[Low error high corr]"
      ],
      "execution_count": 99,
      "outputs": [
        {
          "output_type": "stream",
          "text": [
            "RMSE, R2 for prediction all features = 0.0005596570062877894 0.8479142625775232\n"
          ],
          "name": "stdout"
        },
        {
          "output_type": "display_data",
          "data": {
            "image/png": "[encoded data removed]",
            "text/plain": [
              "<Figure size 432x288 with 1 Axes>"
            ]
          },
          "metadata": {
            "tags": [],
            "needs_background": "light"
          }
        }
      ]
    },
    {
      "cell_type": "markdown",
      "metadata": {
        "id": "i3ofJxdUdnN6"
      },
      "source": [
        "### Regularized Normal Equations"
      ]
    },
    {
      "cell_type": "code",
      "metadata": {
        "id": "VyIX4LaAdnN6",
        "colab": {
          "base_uri": "https://localhost:8080/"
        },
        "outputId": "72518a07-3add-4959-cd63-f12f8a7dd014"
      },
      "source": [
        "print('Recall that our training features array train_X has')\n",
        "print(f'm = {train_X.shape[0]} rows and n = {train_X.shape[1]} columns')"
      ],
      "execution_count": 100,
      "outputs": [
        {
          "output_type": "stream",
          "text": [
            "Recall that our training features array train_X has\n",
            "m = 66 rows and n = 74 columns\n"
          ],
          "name": "stdout"
        }
      ]
    },
    {
      "cell_type": "markdown",
      "metadata": {
        "id": "BSvkrQ6EdnN8"
      },
      "source": [
        "`train_X` is thus wider than it is tall, which suggests that the regularized normal equations might perform better in generating label predictions. In this case, we modify the first of the normal equations given above to \n",
        "\n",
        "$$W = (X^T \\cdot X + \\lambda m I)^{-1} \\cdot X^T \\cdot Y$$.\n",
        "\n",
        "Here, $\\lambda$ is the regularization parameter and $m$ is the number of rows in $X$."
      ]
    },
    {
      "cell_type": "markdown",
      "metadata": {
        "id": "7Mgd1zocdnN9"
      },
      "source": [
        "### Repeat the previous parts of Task IV, but this time incorporate regularization"
      ]
    },
    {
      "cell_type": "code",
      "metadata": {
        "id": "bIrbJkOydnN9",
        "colab": {
          "base_uri": "https://localhost:8080/",
          "height": 302
        },
        "outputId": "a5ca5e1e-4f1e-403e-90f3-3f4a6677c14c"
      },
      "source": [
        "### START CODE HERE ###\n",
        "lam = 0.75\n",
        "Z = np.matmul(train_X.T, train_X )\n",
        "Z_r = Z + (lam*train_X.shape[0]*np.identity(Z.shape[0]))\n",
        "inv2 = np.linalg.pinv(Z_r)\n",
        "W = np.matmul(np.matmul(inv2, train_X.T), train_Y)\n",
        "preds = np.matmul(test_X, W)\n",
        "\n",
        "# Set any negative predictions to 0\n",
        "preds[np.where(preds<0)]=0\n",
        "\n",
        "# Plot outputs\n",
        "plt.scatter(range(len(test_Y)), test_Y,  color='black')\n",
        "plt.scatter(range(len(preds)), preds, color='blue', linewidth=3)\n",
        "print(\"RMSE, R2 for prediction all features =\", MSE(test_Y,preds), r2(test_Y,preds)) #[Low error high corr]\n",
        "\n",
        "### END CODE HERE ###"
      ],
      "execution_count": 102,
      "outputs": [
        {
          "output_type": "stream",
          "text": [
            "RMSE, R2 for prediction all features = 0.0004179695720766956 0.22390609583163104\n"
          ],
          "name": "stdout"
        },
        {
          "output_type": "display_data",
          "data": {
            "image/png": "[encoded data removed]",
            "text/plain": [
              "<Figure size 432x288 with 1 Axes>"
            ]
          },
          "metadata": {
            "tags": [],
            "needs_background": "light"
          }
        }
      ]
    },
    {
      "cell_type": "markdown",
      "metadata": {
        "id": "o5uD0DVidnN_"
      },
      "source": [
        "# Task V: Non-linear Regression Models (GLM, DT) "
      ]
    },
    {
      "cell_type": "markdown",
      "metadata": {
        "id": "Yk0Be7SQdnN_"
      },
      "source": [
        "### Generalized Linear Models\n",
        "\n",
        "`sm` (our alias for `statsmodels.api`) contains a `GLM` class. Use it to instantiate a model. The relevant parameters are training labels, training features, and `ffamily`, i.e. the family of distributions to which we assume our prediction errors belong. Some potentially good choices for `ffamily` include Gaussian, Gamma, and Logit."
      ]
    },
    {
      "cell_type": "code",
      "metadata": {
        "id": "cxUdD_LhdnN_",
        "colab": {
          "base_uri": "https://localhost:8080/"
        },
        "outputId": "0cd54187-929c-4c7b-bf74-3b3e568df92c"
      },
      "source": [
        "# GLM \n",
        "import statsmodels.api as sm\n",
        "### START CODE HERE ###\n",
        "# Instantiate the GLM\n",
        "glm_gamma = sm.GLM(train_Y, train_X, ffamily='Gaussian')\n",
        "# Train the GLM\n",
        "glm_results = glm_gamma.fit()\n",
        "### END CODE HERE ###\n",
        "print(glm_results.summary())"
      ],
      "execution_count": 165,
      "outputs": [
        {
          "output_type": "stream",
          "text": [
            "                 Generalized Linear Model Regression Results                  \n",
            "==============================================================================\n",
            "Dep. Variable:                      y   No. Observations:                   66\n",
            "Model:                            GLM   Df Residuals:                       34\n",
            "Model Family:                Gaussian   Df Model:                           31\n",
            "Link Function:               identity   Scale:                      0.00066625\n",
            "Method:                          IRLS   Log-Likelihood:                 169.60\n",
            "Date:                Sat, 13 Mar 2021   Deviance:                     0.022652\n",
            "Time:                        22:35:41   Pearson chi2:                   0.0227\n",
            "No. Iterations:                     4                                         \n",
            "Covariance Type:            nonrobust                                         \n",
            "==============================================================================\n",
            "                 coef    std err          z      P>|z|      [0.025      0.975]\n",
            "------------------------------------------------------------------------------\n",
            "const       2.968e-17   3.03e-17      0.981      0.327   -2.96e-17     8.9e-17\n",
            "x1          4.212e-18   1.36e-17      0.310      0.756   -2.24e-17    3.08e-17\n",
            "x2             0.0026      0.037      0.070      0.944      -0.069       0.074\n",
            "x3            -0.0637      0.052     -1.235      0.217      -0.165       0.037\n",
            "x4             0.0015      0.014      0.107      0.915      -0.027       0.030\n",
            "x5             0.0395      0.012      3.218      0.001       0.015       0.064\n",
            "x6             0.0073      0.014      0.517      0.605      -0.020       0.035\n",
            "x7          2.642e-17   2.33e-17      1.133      0.257   -1.93e-17    7.21e-17\n",
            "x8             0.0135      0.028      0.483      0.629      -0.041       0.068\n",
            "x9             0.0043      0.015      0.289      0.773      -0.025       0.033\n",
            "x10            0.0075      0.019      0.404      0.686      -0.029       0.044\n",
            "x11            0.0143      0.016      0.894      0.372      -0.017       0.046\n",
            "x12            0.0353      0.011      3.144      0.002       0.013       0.057\n",
            "x13           -0.0070      0.021     -0.327      0.744      -0.049       0.035\n",
            "x14        -8.578e-19   1.28e-17     -0.067      0.947   -2.59e-17    2.42e-17\n",
            "x15        -1.746e-18   5.68e-18     -0.308      0.758   -1.29e-17    9.38e-18\n",
            "x16            0.0056      0.008      0.678      0.498      -0.011       0.022\n",
            "x17           -0.0002      0.011     -0.017      0.986      -0.022       0.022\n",
            "x18         9.215e-18   1.74e-17      0.530      0.596   -2.49e-17    4.33e-17\n",
            "x19        -2.089e-18   2.83e-18     -0.739      0.460   -7.63e-18    3.45e-18\n",
            "x20        -6.202e-18   5.85e-18     -1.060      0.289   -1.77e-17    5.27e-18\n",
            "x21           -0.0004      0.017     -0.025      0.980      -0.034       0.034\n",
            "x22        -6.479e-18   1.77e-17     -0.367      0.714   -4.11e-17    2.81e-17\n",
            "x23            0.0320      0.022      1.429      0.153      -0.012       0.076\n",
            "x24        -4.243e-18   2.63e-18     -1.615      0.106   -9.39e-18    9.05e-19\n",
            "x25         -4.48e-18   1.25e-17     -0.359      0.719   -2.89e-17       2e-17\n",
            "x26         7.338e-18   8.29e-18      0.885      0.376   -8.92e-18    2.36e-17\n",
            "x27         2.147e-18   3.22e-18      0.666      0.505   -4.17e-18    8.46e-18\n",
            "x28        -7.712e-18   4.23e-18     -1.825      0.068    -1.6e-17    5.71e-19\n",
            "x29         9.227e-19   1.48e-18      0.623      0.534   -1.98e-18    3.83e-18\n",
            "x30           -0.0031      0.030     -0.104      0.917      -0.062       0.055\n",
            "x31           -0.0095      0.023     -0.406      0.685      -0.055       0.036\n",
            "x32         8.566e-05      0.013      0.007      0.995      -0.025       0.025\n",
            "x33           -0.0034      0.009     -0.360      0.719      -0.022       0.015\n",
            "x34                 0          0        nan        nan           0           0\n",
            "x35                 0          0        nan        nan           0           0\n",
            "x36                 0          0        nan        nan           0           0\n",
            "x37            0.0058      0.011      0.512      0.608      -0.016       0.028\n",
            "x38                 0          0        nan        nan           0           0\n",
            "x39                 0          0        nan        nan           0           0\n",
            "x40           -0.0148      0.030     -0.489      0.625      -0.074       0.045\n",
            "x41                 0          0        nan        nan           0           0\n",
            "x42           -0.0205      0.012     -1.778      0.075      -0.043       0.002\n",
            "x43            0.0366      0.020      1.826      0.068      -0.003       0.076\n",
            "x44                 0          0        nan        nan           0           0\n",
            "x45            0.0016      0.020      0.083      0.934      -0.037       0.040\n",
            "x46        -8.566e-05      0.020     -0.004      0.997      -0.039       0.038\n",
            "x47           -0.0020      0.028     -0.070      0.945      -0.057       0.054\n",
            "x48                 0          0        nan        nan           0           0\n",
            "x49           -0.0115      0.020     -0.576      0.564      -0.051       0.028\n",
            "x50           -0.0096      0.010     -0.997      0.319      -0.028       0.009\n",
            "x51            0.0013      0.010      0.131      0.895      -0.017       0.020\n",
            "x52            0.0209      0.026      0.788      0.431      -0.031       0.073\n",
            "x53            0.0599      0.034      1.765      0.078      -0.007       0.127\n",
            "x54                 0          0        nan        nan           0           0\n",
            "x55                 0          0        nan        nan           0           0\n",
            "x56                 0          0        nan        nan           0           0\n",
            "x57                 0          0        nan        nan           0           0\n",
            "x58                 0          0        nan        nan           0           0\n",
            "x59            0.0053      0.031      0.173      0.863      -0.055       0.066\n",
            "x60                 0          0        nan        nan           0           0\n",
            "x61                 0          0        nan        nan           0           0\n",
            "x62                 0          0        nan        nan           0           0\n",
            "x63         8.566e-05      0.013      0.007      0.995      -0.025       0.025\n",
            "x64                 0          0        nan        nan           0           0\n",
            "x65                 0          0        nan        nan           0           0\n",
            "x66            0.0072      0.009      0.803      0.422      -0.010       0.025\n",
            "x67            0.0234      0.026      0.883      0.377      -0.029       0.075\n",
            "x68            0.0320      0.022      1.429      0.153      -0.012       0.076\n",
            "x69                 0          0        nan        nan           0           0\n",
            "x70           -0.0132      0.020     -0.658      0.511      -0.052       0.026\n",
            "x71                 0          0        nan        nan           0           0\n",
            "x72                 0          0        nan        nan           0           0\n",
            "x73           -0.0040      0.038     -0.105      0.917      -0.078       0.070\n",
            "==============================================================================\n"
          ],
          "name": "stdout"
        },
        {
          "output_type": "stream",
          "text": [
            "/usr/local/lib/python3.7/dist-packages/statsmodels/base/model.py:1294: RuntimeWarning: invalid value encountered in true_divide\n",
            "  return self.params / self.bse\n"
          ],
          "name": "stderr"
        }
      ]
    },
    {
      "cell_type": "code",
      "metadata": {
        "colab": {
          "base_uri": "https://localhost:8080/"
        },
        "id": "YNFV39G-qy8O",
        "outputId": "5e53ea15-7dc9-4e59-c559-d7e2ddd58a08"
      },
      "source": [
        "print(glm_results.params)"
      ],
      "execution_count": 166,
      "outputs": [
        {
          "output_type": "stream",
          "text": [
            "[ 2.96822272e-17  4.21211161e-18  2.56981326e-03 -6.37313689e-02\n",
            "  1.54188796e-03  3.95308781e-02  7.27252878e-03  2.64181214e-17\n",
            "  1.35090387e-02  4.28658464e-03  7.49778240e-03  1.42505831e-02\n",
            "  3.53223392e-02 -7.02370310e-03 -8.57817518e-19 -1.74600790e-18\n",
            "  5.60294159e-03 -1.96644676e-04  9.21474830e-18 -2.08946047e-18\n",
            " -6.20152214e-18 -4.28302210e-04 -6.47869031e-18  3.19513449e-02\n",
            " -4.24270370e-18 -4.47981192e-18  7.33798250e-18  2.14728488e-18\n",
            " -7.71243103e-18  9.22652380e-19 -3.11641014e-03 -9.48212156e-03\n",
            "  8.56604420e-05 -3.40279107e-03  0.00000000e+00  0.00000000e+00\n",
            "  0.00000000e+00  5.79958626e-03  0.00000000e+00  0.00000000e+00\n",
            " -1.48199077e-02  0.00000000e+00 -2.05010093e-02  3.65918704e-02\n",
            "  0.00000000e+00  1.62754840e-03 -8.56604420e-05 -1.97019017e-03\n",
            "  0.00000000e+00 -1.15492980e-02 -9.59228502e-03  1.25460809e-03\n",
            "  2.08736536e-02  5.99382297e-02  0.00000000e+00  0.00000000e+00\n",
            "  0.00000000e+00  0.00000000e+00  0.00000000e+00  5.32765729e-03\n",
            "  0.00000000e+00  0.00000000e+00  0.00000000e+00  8.56604420e-05\n",
            "  0.00000000e+00  0.00000000e+00  7.19502399e-03  2.33863599e-02\n",
            "  3.19513449e-02  0.00000000e+00 -1.31768464e-02  0.00000000e+00\n",
            "  0.00000000e+00 -3.97425052e-03]\n"
          ],
          "name": "stdout"
        }
      ]
    },
    {
      "cell_type": "markdown",
      "metadata": {
        "id": "7IAchWHodnOB"
      },
      "source": [
        "### Generate predictions from the test data"
      ]
    },
    {
      "cell_type": "code",
      "metadata": {
        "id": "XLTsITX7dnOC"
      },
      "source": [
        "### START CODE HERE ###\n",
        "G_P = glm_gamma.predict(glm_results.params, test_X)\n",
        "### END CODE HERE ###\n",
        "# Set any negative predictions to 0\n",
        "G_P[G_P<0]=0"
      ],
      "execution_count": 167,
      "outputs": []
    },
    {
      "cell_type": "code",
      "metadata": {
        "id": "TgXIT-JpdnOE",
        "colab": {
          "base_uri": "https://localhost:8080/",
          "height": 282
        },
        "outputId": "78dead3c-06f1-42df-e9b2-8d51c8c7684e"
      },
      "source": [
        "# Plot outputs\n",
        "plt.scatter(range(len(test_Y)), test_Y,  color='black')\n",
        "plt.scatter(range(len(G_P)), G_P, color='blue', linewidth=3)\n",
        "print(\"RMSE, R2 for GLM=\", MSE(test_Y,G_P), r2(test_Y,G_P)) "
      ],
      "execution_count": 168,
      "outputs": [
        {
          "output_type": "stream",
          "text": [
            "RMSE, R2 for GLM= 0.0005596570062877873 0.847914262577519\n"
          ],
          "name": "stdout"
        },
        {
          "output_type": "display_data",
          "data": {
            "image/png": "[encoded data removed]",
            "text/plain": [
              "<Figure size 432x288 with 1 Axes>"
            ]
          },
          "metadata": {
            "tags": [],
            "needs_background": "light"
          }
        }
      ]
    },
    {
      "cell_type": "markdown",
      "metadata": {
        "id": "Vld0rNUcdnOG"
      },
      "source": [
        "### Random Forest Regression\n",
        "\n",
        "Use the `RandomForestRegressor` from `sklearn.ensemble` to generate predictions. The relevant parameters are the `max_depth` of the trees and the `random_state`, to ensure reproducibility."
      ]
    },
    {
      "cell_type": "code",
      "metadata": {
        "id": "EbxRUm3UdnOG",
        "colab": {
          "base_uri": "https://localhost:8080/"
        },
        "outputId": "df4a62c9-bae4-472f-ee6f-a5420823d6a1"
      },
      "source": [
        "### START CODE HERE ###\n",
        "from sklearn.ensemble import RandomForestRegressor\n",
        "# Instantiate the random forest regression model\n",
        "regr = RandomForestRegressor()\n",
        "# Train the model\n",
        "regr.fit(train_X, train_Y)\n",
        "# Generate predictions from the test data\n",
        "pred_rf = regr.predict(test_X)\n",
        "### END CODE HERE ###"
      ],
      "execution_count": 114,
      "outputs": [
        {
          "output_type": "stream",
          "text": [
            "/usr/local/lib/python3.7/dist-packages/ipykernel_launcher.py:6: DataConversionWarning: A column-vector y was passed when a 1d array was expected. Please change the shape of y to (n_samples,), for example using ravel().\n",
            "  \n"
          ],
          "name": "stderr"
        }
      ]
    },
    {
      "cell_type": "code",
      "metadata": {
        "id": "bWVeR1PvdnOI"
      },
      "source": [
        "# Set any negative predictions to 0\n",
        "pred_rf[np.where(pred_rf<0)]=0"
      ],
      "execution_count": 115,
      "outputs": []
    },
    {
      "cell_type": "code",
      "metadata": {
        "id": "YSZX9t1MdnOK",
        "colab": {
          "base_uri": "https://localhost:8080/",
          "height": 282
        },
        "outputId": "5a987c65-e450-451c-8700-f6d0fe571a73"
      },
      "source": [
        "# Plot outputs\n",
        "plt.scatter(range(len(test_Y)), test_Y,  color='black')\n",
        "plt.scatter(range(len(pred_rf)), pred_rf, color='blue', linewidth=3)\n",
        "print(\"RMSE, R2 for Decision Trees=\", MSE(test_Y,pred_rf), r2(test_Y,pred_rf)) #[Low error high corr]"
      ],
      "execution_count": 116,
      "outputs": [
        {
          "output_type": "stream",
          "text": [
            "RMSE, R2 for Decision Trees= 0.0006614718303690982 0.9688603812594428\n"
          ],
          "name": "stdout"
        },
        {
          "output_type": "display_data",
          "data": {
            "image/png": "[encoded data removed]",
            "text/plain": [
              "<Figure size 432x288 with 1 Axes>"
            ]
          },
          "metadata": {
            "tags": [],
            "needs_background": "light"
          }
        }
      ]
    },
    {
      "cell_type": "markdown",
      "metadata": {
        "id": "bxx1JrikdnON"
      },
      "source": [
        "## Populate the table below with the results of your experiments above. Which models performed best?"
      ]
    },
    {
      "cell_type": "markdown",
      "metadata": {
        "id": "44MPnft4dnON"
      },
      "source": [
        "## Results\n",
        "---------------------------------------------------------------------------\n",
        "Method                                          |  RMSE             | R2               |\n",
        "-------------------------------------------------------------------------------------\n",
        "1. Gradient Descent\n",
        "2. Normal Equations\n",
        "3. Regularized Normal Equations\n",
        "4. GLM\n",
        "5. Decision Trees"
      ]
    },
    {
      "cell_type": "code",
      "metadata": {
        "colab": {
          "base_uri": "https://localhost:8080/"
        },
        "id": "XhGCPuEmtKlU",
        "outputId": "0bba6f7a-e5fe-490a-a8b6-178c96bc4e47"
      },
      "source": [
        "print(\"RMSE, R2 using SGD=\", MSE(test_Y,GD_P), r2(test_Y,GD_P))\n",
        "print(\"RMSE, R2 for Normal Equations =\", MSE(test_Y,PN1), r2(test_Y,PN1))\n",
        "print(\"RMSE, R2 using Regularized Normal Equations =\", MSE(test_Y,preds), r2(test_Y,preds)) \n",
        "print(\"RMSE, R2 for GLM=\", MSE(test_Y,G_P), r2(test_Y,G_P)) \n",
        "print(\"RMSE, R2 for Decision Trees=\", MSE(test_Y,pred_rf), r2(test_Y,pred_rf))"
      ],
      "execution_count": 169,
      "outputs": [
        {
          "output_type": "stream",
          "text": [
            "RMSE, R2 using SGD= 0.000518924229453394 0.6939013195958598\n",
            "RMSE, R2 for Normal Equations = 0.0005596570062877894 0.8479142625775232\n",
            "RMSE, R2 using Regularized Normal Equations = 0.0004179695720766956 0.22390609583163104\n",
            "RMSE, R2 for GLM= 0.0005596570062877873 0.847914262577519\n",
            "RMSE, R2 for Decision Trees= 0.0006614718303690982 0.9688603812594428\n"
          ],
          "name": "stdout"
        }
      ]
    },
    {
      "cell_type": "code",
      "metadata": {
        "id": "imrKiGa_tgk2"
      },
      "source": [
        ""
      ],
      "execution_count": null,
      "outputs": []
    },
    {
      "cell_type": "markdown",
      "metadata": {
        "id": "n_HoMbxTdnOO"
      },
      "source": [
        "## Finally, pick some car types for which your models over- and under-predicted sales. Attempt to determine the root causes. Write your findings below."
      ]
    },
    {
      "cell_type": "markdown",
      "metadata": {
        "id": "WddJkKQgdnOO"
      },
      "source": [
        ""
      ]
    }
  ]
}