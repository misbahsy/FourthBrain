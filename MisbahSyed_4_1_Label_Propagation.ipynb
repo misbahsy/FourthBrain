{
  "nbformat": 4,
  "nbformat_minor": 0,
  "metadata": {
    "kernelspec": {
      "display_name": "Python 3",
      "language": "python",
      "name": "python3"
    },
    "language_info": {
      "codemirror_mode": {
        "name": "ipython",
        "version": 3
      },
      "file_extension": ".py",
      "mimetype": "text/x-python",
      "name": "python",
      "nbconvert_exporter": "python",
      "pygments_lexer": "ipython3",
      "version": "3.8.5"
    },
    "colab": {
      "name": "MisbahSyed 4.1_Label_Propagation.ipynb",
      "provenance": [],
      "collapsed_sections": [],
      "include_colab_link": true
    }
  },
  "cells": [
    {
      "cell_type": "markdown",
      "metadata": {
        "id": "view-in-github",
        "colab_type": "text"
      },
      "source": [
        "<a href=\"https://colab.research.google.com/github/misbahsy/FourthBrain/blob/main/MisbahSyed_4_1_Label_Propagation.ipynb\" target=\"_parent\"><img src=\"https://colab.research.google.com/assets/colab-badge.svg\" alt=\"Open In Colab\"/></a>"
      ]
    },
    {
      "cell_type": "markdown",
      "metadata": {
        "id": "ieUiNqS3KCZw"
      },
      "source": [
        "# Label Propagation\n",
        "\n",
        "## Label propagation is similar to training a classification model and then using that model to make predictions on test data. The key difference is that in general, our analogue to the test data has no labels against which to evaluate our model. In this exercise, we keep the entire set of true labels for illustrative purposes, but the vast marjority of them play no role in training the model. \n",
        "\n",
        "## This exercise is adapted from scikit-learn's [tutorial](https://scikit-learn.org/stable/auto_examples/semi_supervised/plot_label_propagation_digits.html) on zero shot learning ."
      ]
    },
    {
      "cell_type": "markdown",
      "metadata": {
        "id": "IESgGiUAlfZn"
      },
      "source": [
        "### Load the necessary modules and functions"
      ]
    },
    {
      "cell_type": "code",
      "metadata": {
        "id": "hOVZd8fjgJyK"
      },
      "source": [
        "import numpy as np\n",
        "import matplotlib.pyplot as plt\n",
        "\n",
        "from scipy import stats\n",
        "\n",
        "from sklearn import datasets\n",
        "from sklearn.semi_supervised import LabelSpreading\n",
        "\n",
        "from sklearn.metrics import confusion_matrix, classification_report"
      ],
      "execution_count": 1,
      "outputs": []
    },
    {
      "cell_type": "markdown",
      "metadata": {
        "id": "0An6u8e9loVQ"
      },
      "source": [
        "### Exercise: Load and preprocess the data. \n",
        "1. Shuffle the indices\n",
        "2. Use the shuffled indices to extract 1000 random samples from the features data\n",
        "3. Extract the corresponding 1000 labels and images\n",
        "4. Copy the labels. Treat the first 50 shuffled samples as labeled data and the rest as unlabeled data. Replace the labels after the first 50 with -1.\n",
        "\n",
        "We'll use this copy of our labels (with 50 labels known and the other 950 hidden) to train our model, and use the original copy (with all 1000 labels known) to evaluate the model."
      ]
    },
    {
      "cell_type": "code",
      "metadata": {
        "id": "XyaWhrhCgJyO"
      },
      "source": [
        "# Load the digits dataset\n",
        "# digits = {data,target,indices}; n = 1797\n",
        "digits = datasets.load_digits()\n",
        "\n",
        "# Set the random state to 2 for reproducibility\n",
        "rng = np.random.RandomState(2)\n",
        "\n",
        "### START CODE HERE ###\n",
        "# Initialize the indices as an ordered array, with each element corresponding to a sample in the dataset\n",
        "indices = np.arange(len(digits.data))\n",
        "\n",
        "# Shuffle the indices\n",
        "rng.shuffle(indices)\n",
        "\n",
        "# Use the shuffled indices to extract 1000 feature vectors, labels, and images\n",
        "n_total_samples = 1000\n",
        "# Features\n",
        "X = digits.data[indices[:n_total_samples]]\n",
        "# Labels\n",
        "y = digits.target[indices[:n_total_samples]]\n",
        "# Images\n",
        "images = digits.images[indices[:n_total_samples]]\n",
        "\n",
        "# Copy the labels\n",
        "y_train = np.copy(y)\n",
        "\n",
        "# Replace all of the elements of y_train after the first 50 with -1, rendering them unlabeled\n",
        "n_labeled_points = 50\n",
        "# Create an ordered array of indices of the training data\n",
        "train_indices = np.arange(n_total_samples)\n",
        "# Define the training data indices after n_labeled_points as unlabeled\n",
        "unlabeled_set = train_indices[n_labeled_points:]\n",
        "# Conduct the label replacement\n",
        "y_train[unlabeled_set] = -1\n",
        "### END CODE HERE ###"
      ],
      "execution_count": 12,
      "outputs": []
    },
    {
      "cell_type": "code",
      "metadata": {
        "colab": {
          "base_uri": "https://localhost:8080/"
        },
        "id": "Qb04nCWzeIgh",
        "outputId": "ee4b9896-0a1a-4939-d865-4be9e7e67969"
      },
      "source": [
        "n_total_samples"
      ],
      "execution_count": 13,
      "outputs": [
        {
          "output_type": "execute_result",
          "data": {
            "text/plain": [
              "1000"
            ]
          },
          "metadata": {
            "tags": []
          },
          "execution_count": 13
        }
      ]
    },
    {
      "cell_type": "code",
      "metadata": {
        "colab": {
          "base_uri": "https://localhost:8080/",
          "height": 154
        },
        "id": "opDBNGH2aZxh",
        "outputId": "4c65d8ba-0f84-40ad-eb1e-f65700ebf24e"
      },
      "source": [
        "digits.DESCR"
      ],
      "execution_count": 4,
      "outputs": [
        {
          "output_type": "execute_result",
          "data": {
            "application/vnd.google.colaboratory.intrinsic+json": {
              "type": "string"
            },
            "text/plain": [
              "\".. _digits_dataset:\\n\\nOptical recognition of handwritten digits dataset\\n--------------------------------------------------\\n\\n**Data Set Characteristics:**\\n\\n    :Number of Instances: 5620\\n    :Number of Attributes: 64\\n    :Attribute Information: 8x8 image of integer pixels in the range 0..16.\\n    :Missing Attribute Values: None\\n    :Creator: E. Alpaydin (alpaydin '@' boun.edu.tr)\\n    :Date: July; 1998\\n\\nThis is a copy of the test set of the UCI ML hand-written digits datasets\\nhttps://archive.ics.uci.edu/ml/datasets/Optical+Recognition+of+Handwritten+Digits\\n\\nThe data set contains images of hand-written digits: 10 classes where\\neach class refers to a digit.\\n\\nPreprocessing programs made available by NIST were used to extract\\nnormalized bitmaps of handwritten digits from a preprinted form. From a\\ntotal of 43 people, 30 contributed to the training set and different 13\\nto the test set. 32x32 bitmaps are divided into nonoverlapping blocks of\\n4x4 and the number of on pixels are counted in each block. This generates\\nan input matrix of 8x8 where each element is an integer in the range\\n0..16. This reduces dimensionality and gives invariance to small\\ndistortions.\\n\\nFor info on NIST preprocessing routines, see M. D. Garris, J. L. Blue, G.\\nT. Candela, D. L. Dimmick, J. Geist, P. J. Grother, S. A. Janet, and C.\\nL. Wilson, NIST Form-Based Handprint Recognition System, NISTIR 5469,\\n1994.\\n\\n.. topic:: References\\n\\n  - C. Kaynak (1995) Methods of Combining Multiple Classifiers and Their\\n    Applications to Handwritten Digit Recognition, MSc Thesis, Institute of\\n    Graduate Studies in Science and Engineering, Bogazici University.\\n  - E. Alpaydin, C. Kaynak (1998) Cascading Classifiers, Kybernetika.\\n  - Ken Tang and Ponnuthurai N. Suganthan and Xi Yao and A. Kai Qin.\\n    Linear dimensionalityreduction using relevance weighted LDA. School of\\n    Electrical and Electronic Engineering Nanyang Technological University.\\n    2005.\\n  - Claudio Gentile. A New Approximate Maximal Margin Classification\\n    Algorithm. NIPS. 2000.\""
            ]
          },
          "metadata": {
            "tags": []
          },
          "execution_count": 4
        }
      ]
    },
    {
      "cell_type": "markdown",
      "metadata": {
        "id": "Ij_hVMtyvomW"
      },
      "source": [
        "### Verify that the labels are randomly distributed and all the labels after the first 50 in `y_train` are hidden"
      ]
    },
    {
      "cell_type": "code",
      "metadata": {
        "id": "39CAoaBzgJyR",
        "colab": {
          "base_uri": "https://localhost:8080/"
        },
        "outputId": "6c6a1e9c-61f0-4b6a-8354-1dccd9e90f2a"
      },
      "source": [
        "print(y_train[0:100])"
      ],
      "execution_count": 20,
      "outputs": [
        {
          "output_type": "stream",
          "text": [
            "[ 4  0  9  1  4  7  1  5  1  6  6  7  6  1  5  5  4  6  2  7  4  6  4  1\n",
            "  5  2  9  5  4  6  5  6  3  4  0  9  9  8  4  6  8  8  5  7  9  6  9  6\n",
            "  1  3 -1 -1 -1 -1 -1 -1 -1 -1 -1 -1 -1 -1 -1 -1 -1 -1 -1 -1 -1 -1 -1 -1\n",
            " -1 -1 -1 -1 -1 -1 -1 -1 -1 -1 -1 -1 -1 -1 -1 -1 -1 -1 -1 -1 -1 -1 -1 -1\n",
            " -1 -1 -1 -1]\n"
          ],
          "name": "stdout"
        }
      ]
    },
    {
      "cell_type": "markdown",
      "metadata": {
        "id": "40hk3UKewEZe"
      },
      "source": [
        "### Exercise: Train the label propagation model with `gamma = 0.25` and `max_iter = 20`\n",
        "\n",
        "### Make sure you pass in the correct version of the target array, i.e. the one containing unlabeled data"
      ]
    },
    {
      "cell_type": "code",
      "metadata": {
        "id": "8wHcs3qkgJyW",
        "colab": {
          "base_uri": "https://localhost:8080/"
        },
        "outputId": "7fc8a0b5-0160-4139-96a0-52b413649b69"
      },
      "source": [
        "### START CODE HERE ###\n",
        "# Initialize the model\n",
        "lp_model = LabelSpreading(gamma=0.25, max_iter=20)\n",
        "# Train the model\n",
        "lp_model.fit(X, y_train)\n",
        "### END CODE HERE ###"
      ],
      "execution_count": 15,
      "outputs": [
        {
          "output_type": "execute_result",
          "data": {
            "text/plain": [
              "LabelSpreading(alpha=0.2, gamma=0.25, kernel='rbf', max_iter=20, n_jobs=None,\n",
              "               n_neighbors=7, tol=0.001)"
            ]
          },
          "metadata": {
            "tags": []
          },
          "execution_count": 15
        }
      ]
    },
    {
      "cell_type": "markdown",
      "metadata": {
        "id": "LTBwLj2Gy8qM"
      },
      "source": [
        "### Exercise: Evaluate the model's performance on the unlabeled data"
      ]
    },
    {
      "cell_type": "code",
      "metadata": {
        "colab": {
          "base_uri": "https://localhost:8080/"
        },
        "id": "3O3_LqbQfwAv",
        "outputId": "0f98d947-95f5-4642-9ca0-91a46bfacb93"
      },
      "source": [
        "lp_model.transduction_[unlabeled_set].shape"
      ],
      "execution_count": 17,
      "outputs": [
        {
          "output_type": "execute_result",
          "data": {
            "text/plain": [
              "(950,)"
            ]
          },
          "metadata": {
            "tags": []
          },
          "execution_count": 17
        }
      ]
    },
    {
      "cell_type": "code",
      "metadata": {
        "id": "CjFO-PxjgJya",
        "colab": {
          "base_uri": "https://localhost:8080/"
        },
        "outputId": "495608da-53f0-475f-b997-60ae8cb94d71"
      },
      "source": [
        "### START CODE HERE ###\n",
        "# Extract the label predictions for the unlabeled data\n",
        "predicted_labels = lp_model.transduction_[unlabeled_set]\n",
        "# Extract the true labels of the unlabeled data\n",
        "true_labels = y[unlabeled_set]\n",
        "# Compute the confusion matrix between the true and predicted labels of the unlabeled data\n",
        "cm = confusion_matrix(true_labels, predicted_labels, labels=lp_model.classes_)\n",
        "### END CODE HERE ###\n",
        "print(\"Label Spreading model: %d labeled & %d unlabeled points (%d total)\" %\n",
        "      (n_labeled_points, n_total_samples - n_labeled_points, n_total_samples))\n",
        "\n",
        "print(classification_report(true_labels, predicted_labels))\n",
        "\n",
        "print(\"Confusion matrix\")\n",
        "print(cm)"
      ],
      "execution_count": 18,
      "outputs": [
        {
          "output_type": "stream",
          "text": [
            "Label Spreading model: 50 labeled & 950 unlabeled points (1000 total)\n",
            "              precision    recall  f1-score   support\n",
            "\n",
            "           0       1.00      1.00      1.00        98\n",
            "           1       0.85      0.90      0.88        93\n",
            "           2       0.99      0.78      0.87        91\n",
            "           3       0.92      0.90      0.91       108\n",
            "           4       0.97      1.00      0.98        88\n",
            "           5       0.97      0.93      0.95       102\n",
            "           6       0.97      1.00      0.99       100\n",
            "           7       0.98      0.91      0.94        91\n",
            "           8       0.86      0.82      0.84        87\n",
            "           9       0.77      0.97      0.86        92\n",
            "\n",
            "    accuracy                           0.92       950\n",
            "   macro avg       0.93      0.92      0.92       950\n",
            "weighted avg       0.93      0.92      0.92       950\n",
            "\n",
            "Confusion matrix\n",
            "[[ 98   0   0   0   0   0   0   0   0   0]\n",
            " [  0  84   0   0   1   1   0   0   3   4]\n",
            " [  0  12  71   0   0   0   0   1   7   0]\n",
            " [  0   0   0  97   0   0   0   1   0  10]\n",
            " [  0   0   0   0  88   0   0   0   0   0]\n",
            " [  0   0   0   0   0  95   0   0   0   7]\n",
            " [  0   0   0   0   0   0 100   0   0   0]\n",
            " [  0   0   0   0   0   2   0  83   0   6]\n",
            " [  0   3   1   8   1   0   3   0  71   0]\n",
            " [  0   0   0   0   1   0   0   0   2  89]]\n"
          ],
          "name": "stdout"
        }
      ]
    },
    {
      "cell_type": "markdown",
      "metadata": {
        "id": "Hwlk3ptY1YrL"
      },
      "source": [
        "### Exercise: Find the 10 most uncertain labels in descending order of uncertainty, i.e. the labels for which the model made the least confident predictions. Plot the associated images. Observe any discrepancies between predicted and true labels. Do you see any patterns? What might account for them? "
      ]
    },
    {
      "cell_type": "code",
      "metadata": {
        "id": "2ajvW97mgJyf",
        "colab": {
          "base_uri": "https://localhost:8080/",
          "height": 314
        },
        "outputId": "e6ff6378-4f92-4b67-8eca-15b6029d61ed"
      },
      "source": [
        "### START CODE HERE ###\n",
        "# Calculate uncertainty values for each transduced distribution\n",
        "# You may scipy stats' entropy() function useful.\n",
        "pred_entropies = stats.distributions.entropy(lp_model.label_distributions_.T)\n",
        "\n",
        "# Pick the top 10 most uncertain labels, in descending order of uncertainty\n",
        "uncertainty_index = np.argsort(pred_entropies)[-10:]\n",
        "\n",
        "### END CODE HERE ###\n",
        "\n",
        "# Plot\n",
        "f = plt.figure(figsize=(7, 5))\n",
        "for index, image_index in enumerate(uncertainty_index):\n",
        "    image = images[image_index]\n",
        "\n",
        "    sub = f.add_subplot(2, 5, index + 1)\n",
        "    sub.imshow(image, cmap=plt.cm.gray_r)\n",
        "    plt.xticks([])\n",
        "    plt.yticks([])\n",
        "    sub.set_title('predict: %i\\ntrue: %i' % (\n",
        "        lp_model.transduction_[image_index], y[image_index]))\n",
        "\n",
        "f.suptitle('Learning with small amount of labeled data')\n",
        "plt.show()"
      ],
      "execution_count": 19,
      "outputs": [
        {
          "output_type": "display_data",
          "data": {
            "image/png": "[encoded data removed]",
            "text/plain": [
              "<Figure size 504x360 with 10 Axes>"
            ]
          },
          "metadata": {
            "tags": []
          }
        }
      ]
    },
    {
      "cell_type": "markdown",
      "metadata": {
        "id": "xD119mlU69jb"
      },
      "source": [
        "### Exercise: Repeat the experiment with 10, 100, and 250 labeled images. How do the differing numbers of labeled samples affect the model's performance? Which number detections yield the most errors?\n",
        "\n"
      ]
    },
    {
      "cell_type": "markdown",
      "metadata": {
        "id": "CmHbAwxBiXFc"
      },
      "source": [
        "# With 100 samples"
      ]
    },
    {
      "cell_type": "code",
      "metadata": {
        "id": "ypt99rc5hXAr"
      },
      "source": [
        "# Load the digits dataset\n",
        "# digits = {data,target,indices}; n = 1797\n",
        "digits = datasets.load_digits()\n",
        "\n",
        "# Set the random state to 2 for reproducibility\n",
        "rng = np.random.RandomState(2)\n",
        "\n",
        "### START CODE HERE ###\n",
        "# Initialize the indices as an ordered array, with each element corresponding to a sample in the dataset\n",
        "indices = np.arange(len(digits.data))\n",
        "\n",
        "# Shuffle the indices\n",
        "rng.shuffle(indices)\n",
        "\n",
        "# Use the shuffled indices to extract 1000 feature vectors, labels, and images\n",
        "n_total_samples = 1000\n",
        "# Features\n",
        "X = digits.data[indices[:n_total_samples]]\n",
        "# Labels\n",
        "y = digits.target[indices[:n_total_samples]]\n",
        "# Images\n",
        "images = digits.images[indices[:n_total_samples]]\n",
        "\n",
        "# Copy the labels\n",
        "y_train = np.copy(y)\n",
        "\n",
        "# Replace all of the elements of y_train after the first 50 with -1, rendering them unlabeled\n",
        "n_labeled_points = 100\n",
        "# Create an ordered array of indices of the training data\n",
        "train_indices = np.arange(n_total_samples)\n",
        "# Define the training data indices after n_labeled_points as unlabeled\n",
        "unlabeled_set = train_indices[n_labeled_points:]\n",
        "# Conduct the label replacement\n",
        "y_train[unlabeled_set] = -1\n",
        "### END CODE HERE ###"
      ],
      "execution_count": 22,
      "outputs": []
    },
    {
      "cell_type": "code",
      "metadata": {
        "colab": {
          "base_uri": "https://localhost:8080/"
        },
        "id": "sLTwM53lhbt7",
        "outputId": "45ae7fda-504a-4191-e678-c4f47639ac1b"
      },
      "source": [
        "print(y_train[0:1000])"
      ],
      "execution_count": 24,
      "outputs": [
        {
          "output_type": "stream",
          "text": [
            "[ 4  0  9  1  4  7  1  5  1  6  6  7  6  1  5  5  4  6  2  7  4  6  4  1\n",
            "  5  2  9  5  4  6  5  6  3  4  0  9  9  8  4  6  8  8  5  7  9  6  9  6\n",
            "  1  3  0  1  9  7  3  3  1  1  8  8  9  8  5  4  4  7  3  5  8  4  3  1\n",
            "  3  8  7  3  3  0  8  7  2  8  5  3  8  7  6  4  6  2  2  0  1  1  5  3\n",
            "  5  7  6  8 -1 -1 -1 -1 -1 -1 -1 -1 -1 -1 -1 -1 -1 -1 -1 -1 -1 -1 -1 -1\n",
            " -1 -1 -1 -1 -1 -1 -1 -1 -1 -1 -1 -1 -1 -1 -1 -1 -1 -1 -1 -1 -1 -1 -1 -1\n",
            " -1 -1 -1 -1 -1 -1 -1 -1 -1 -1 -1 -1 -1 -1 -1 -1 -1 -1 -1 -1 -1 -1 -1 -1\n",
            " -1 -1 -1 -1 -1 -1 -1 -1 -1 -1 -1 -1 -1 -1 -1 -1 -1 -1 -1 -1 -1 -1 -1 -1\n",
            " -1 -1 -1 -1 -1 -1 -1 -1 -1 -1 -1 -1 -1 -1 -1 -1 -1 -1 -1 -1 -1 -1 -1 -1\n",
            " -1 -1 -1 -1 -1 -1 -1 -1 -1 -1 -1 -1 -1 -1 -1 -1 -1 -1 -1 -1 -1 -1 -1 -1\n",
            " -1 -1 -1 -1 -1 -1 -1 -1 -1 -1 -1 -1 -1 -1 -1 -1 -1 -1 -1 -1 -1 -1 -1 -1\n",
            " -1 -1 -1 -1 -1 -1 -1 -1 -1 -1 -1 -1 -1 -1 -1 -1 -1 -1 -1 -1 -1 -1 -1 -1\n",
            " -1 -1 -1 -1 -1 -1 -1 -1 -1 -1 -1 -1 -1 -1 -1 -1 -1 -1 -1 -1 -1 -1 -1 -1\n",
            " -1 -1 -1 -1 -1 -1 -1 -1 -1 -1 -1 -1 -1 -1 -1 -1 -1 -1 -1 -1 -1 -1 -1 -1\n",
            " -1 -1 -1 -1 -1 -1 -1 -1 -1 -1 -1 -1 -1 -1 -1 -1 -1 -1 -1 -1 -1 -1 -1 -1\n",
            " -1 -1 -1 -1 -1 -1 -1 -1 -1 -1 -1 -1 -1 -1 -1 -1 -1 -1 -1 -1 -1 -1 -1 -1\n",
            " -1 -1 -1 -1 -1 -1 -1 -1 -1 -1 -1 -1 -1 -1 -1 -1 -1 -1 -1 -1 -1 -1 -1 -1\n",
            " -1 -1 -1 -1 -1 -1 -1 -1 -1 -1 -1 -1 -1 -1 -1 -1 -1 -1 -1 -1 -1 -1 -1 -1\n",
            " -1 -1 -1 -1 -1 -1 -1 -1 -1 -1 -1 -1 -1 -1 -1 -1 -1 -1 -1 -1 -1 -1 -1 -1\n",
            " -1 -1 -1 -1 -1 -1 -1 -1 -1 -1 -1 -1 -1 -1 -1 -1 -1 -1 -1 -1 -1 -1 -1 -1\n",
            " -1 -1 -1 -1 -1 -1 -1 -1 -1 -1 -1 -1 -1 -1 -1 -1 -1 -1 -1 -1 -1 -1 -1 -1\n",
            " -1 -1 -1 -1 -1 -1 -1 -1 -1 -1 -1 -1 -1 -1 -1 -1 -1 -1 -1 -1 -1 -1 -1 -1\n",
            " -1 -1 -1 -1 -1 -1 -1 -1 -1 -1 -1 -1 -1 -1 -1 -1 -1 -1 -1 -1 -1 -1 -1 -1\n",
            " -1 -1 -1 -1 -1 -1 -1 -1 -1 -1 -1 -1 -1 -1 -1 -1 -1 -1 -1 -1 -1 -1 -1 -1\n",
            " -1 -1 -1 -1 -1 -1 -1 -1 -1 -1 -1 -1 -1 -1 -1 -1 -1 -1 -1 -1 -1 -1 -1 -1\n",
            " -1 -1 -1 -1 -1 -1 -1 -1 -1 -1 -1 -1 -1 -1 -1 -1 -1 -1 -1 -1 -1 -1 -1 -1\n",
            " -1 -1 -1 -1 -1 -1 -1 -1 -1 -1 -1 -1 -1 -1 -1 -1 -1 -1 -1 -1 -1 -1 -1 -1\n",
            " -1 -1 -1 -1 -1 -1 -1 -1 -1 -1 -1 -1 -1 -1 -1 -1 -1 -1 -1 -1 -1 -1 -1 -1\n",
            " -1 -1 -1 -1 -1 -1 -1 -1 -1 -1 -1 -1 -1 -1 -1 -1 -1 -1 -1 -1 -1 -1 -1 -1\n",
            " -1 -1 -1 -1 -1 -1 -1 -1 -1 -1 -1 -1 -1 -1 -1 -1 -1 -1 -1 -1 -1 -1 -1 -1\n",
            " -1 -1 -1 -1 -1 -1 -1 -1 -1 -1 -1 -1 -1 -1 -1 -1 -1 -1 -1 -1 -1 -1 -1 -1\n",
            " -1 -1 -1 -1 -1 -1 -1 -1 -1 -1 -1 -1 -1 -1 -1 -1 -1 -1 -1 -1 -1 -1 -1 -1\n",
            " -1 -1 -1 -1 -1 -1 -1 -1 -1 -1 -1 -1 -1 -1 -1 -1 -1 -1 -1 -1 -1 -1 -1 -1\n",
            " -1 -1 -1 -1 -1 -1 -1 -1 -1 -1 -1 -1 -1 -1 -1 -1 -1 -1 -1 -1 -1 -1 -1 -1\n",
            " -1 -1 -1 -1 -1 -1 -1 -1 -1 -1 -1 -1 -1 -1 -1 -1 -1 -1 -1 -1 -1 -1 -1 -1\n",
            " -1 -1 -1 -1 -1 -1 -1 -1 -1 -1 -1 -1 -1 -1 -1 -1 -1 -1 -1 -1 -1 -1 -1 -1\n",
            " -1 -1 -1 -1 -1 -1 -1 -1 -1 -1 -1 -1 -1 -1 -1 -1 -1 -1 -1 -1 -1 -1 -1 -1\n",
            " -1 -1 -1 -1 -1 -1 -1 -1 -1 -1 -1 -1 -1 -1 -1 -1 -1 -1 -1 -1 -1 -1 -1 -1\n",
            " -1 -1 -1 -1 -1 -1 -1 -1 -1 -1 -1 -1 -1 -1 -1 -1 -1 -1 -1 -1 -1 -1 -1 -1\n",
            " -1 -1 -1 -1 -1 -1 -1 -1 -1 -1 -1 -1 -1 -1 -1 -1 -1 -1 -1 -1 -1 -1 -1 -1\n",
            " -1 -1 -1 -1 -1 -1 -1 -1 -1 -1 -1 -1 -1 -1 -1 -1 -1 -1 -1 -1 -1 -1 -1 -1\n",
            " -1 -1 -1 -1 -1 -1 -1 -1 -1 -1 -1 -1 -1 -1 -1 -1]\n"
          ],
          "name": "stdout"
        }
      ]
    },
    {
      "cell_type": "code",
      "metadata": {
        "colab": {
          "base_uri": "https://localhost:8080/"
        },
        "id": "8-OYhbTBhhKz",
        "outputId": "fc52e41a-ebf2-4de8-8f5e-bf8666ae8ed1"
      },
      "source": [
        "### START CODE HERE ###\n",
        "# Initialize the model\n",
        "lp_model = LabelSpreading(gamma=0.25, max_iter=20)\n",
        "# Train the model\n",
        "lp_model.fit(X, y_train)\n",
        "### END CODE HERE ###"
      ],
      "execution_count": 25,
      "outputs": [
        {
          "output_type": "execute_result",
          "data": {
            "text/plain": [
              "LabelSpreading(alpha=0.2, gamma=0.25, kernel='rbf', max_iter=20, n_jobs=None,\n",
              "               n_neighbors=7, tol=0.001)"
            ]
          },
          "metadata": {
            "tags": []
          },
          "execution_count": 25
        }
      ]
    },
    {
      "cell_type": "code",
      "metadata": {
        "colab": {
          "base_uri": "https://localhost:8080/"
        },
        "id": "YcYSrIiphmrT",
        "outputId": "2488621b-22ae-4d37-87a0-36132b5fb843"
      },
      "source": [
        "### START CODE HERE ###\n",
        "# Extract the label predictions for the unlabeled data\n",
        "predicted_labels = lp_model.transduction_[unlabeled_set]\n",
        "# Extract the true labels of the unlabeled data\n",
        "true_labels = y[unlabeled_set]\n",
        "# Compute the confusion matrix between the true and predicted labels of the unlabeled data\n",
        "cm = confusion_matrix(true_labels, predicted_labels, labels=lp_model.classes_)\n",
        "### END CODE HERE ###\n",
        "print(\"Label Spreading model: %d labeled & %d unlabeled points (%d total)\" %\n",
        "      (n_labeled_points, n_total_samples - n_labeled_points, n_total_samples))\n",
        "\n",
        "print(classification_report(true_labels, predicted_labels))\n",
        "\n",
        "print(\"Confusion matrix\")\n",
        "print(cm)"
      ],
      "execution_count": 26,
      "outputs": [
        {
          "output_type": "stream",
          "text": [
            "Label Spreading model: 100 labeled & 900 unlabeled points (1000 total)\n",
            "              precision    recall  f1-score   support\n",
            "\n",
            "           0       1.00      1.00      1.00        95\n",
            "           1       0.92      0.99      0.96        87\n",
            "           2       1.00      0.90      0.95        88\n",
            "           3       0.93      0.96      0.95        99\n",
            "           4       0.98      1.00      0.99        84\n",
            "           5       0.97      0.93      0.95        97\n",
            "           6       1.00      1.00      1.00        97\n",
            "           7       1.00      0.91      0.95        85\n",
            "           8       0.96      0.92      0.94        78\n",
            "           9       0.83      0.96      0.89        90\n",
            "\n",
            "    accuracy                           0.96       900\n",
            "   macro avg       0.96      0.96      0.96       900\n",
            "weighted avg       0.96      0.96      0.96       900\n",
            "\n",
            "Confusion matrix\n",
            "[[95  0  0  0  0  0  0  0  0  0]\n",
            " [ 0 86  0  0  0  1  0  0  0  0]\n",
            " [ 0  4 79  3  0  0  0  0  2  0]\n",
            " [ 0  0  0 95  0  0  0  0  0  4]\n",
            " [ 0  0  0  0 84  0  0  0  0  0]\n",
            " [ 0  0  0  0  0 90  0  0  0  7]\n",
            " [ 0  0  0  0  0  0 97  0  0  0]\n",
            " [ 0  0  0  0  0  2  0 77  0  6]\n",
            " [ 0  3  0  2  1  0  0  0 72  0]\n",
            " [ 0  0  0  2  1  0  0  0  1 86]]\n"
          ],
          "name": "stdout"
        }
      ]
    },
    {
      "cell_type": "code",
      "metadata": {
        "colab": {
          "base_uri": "https://localhost:8080/",
          "height": 314
        },
        "id": "4p18njTmhsr8",
        "outputId": "ae115a36-a10f-41b3-9343-9e35f9f426d2"
      },
      "source": [
        "### START CODE HERE ###\n",
        "# Calculate uncertainty values for each transduced distribution\n",
        "# You may scipy stats' entropy() function useful.\n",
        "pred_entropies = stats.distributions.entropy(lp_model.label_distributions_.T)\n",
        "\n",
        "# Pick the top 10 most uncertain labels, in descending order of uncertainty\n",
        "uncertainty_index = np.argsort(pred_entropies)[-10:]\n",
        "\n",
        "### END CODE HERE ###\n",
        "\n",
        "# Plot\n",
        "f = plt.figure(figsize=(7, 5))\n",
        "for index, image_index in enumerate(uncertainty_index):\n",
        "    image = images[image_index]\n",
        "\n",
        "    sub = f.add_subplot(2, 5, index + 1)\n",
        "    sub.imshow(image, cmap=plt.cm.gray_r)\n",
        "    plt.xticks([])\n",
        "    plt.yticks([])\n",
        "    sub.set_title('predict: %i\\ntrue: %i' % (\n",
        "        lp_model.transduction_[image_index], y[image_index]))\n",
        "\n",
        "f.suptitle('Learning with small amount of labeled data')\n",
        "plt.show()"
      ],
      "execution_count": 27,
      "outputs": [
        {
          "output_type": "display_data",
          "data": {
            "image/png": "[encoded data removed]",
            "text/plain": [
              "<Figure size 504x360 with 10 Axes>"
            ]
          },
          "metadata": {
            "tags": []
          }
        }
      ]
    },
    {
      "cell_type": "markdown",
      "metadata": {
        "id": "n4xMwiSBiQow"
      },
      "source": [
        "# With 250 samples"
      ]
    },
    {
      "cell_type": "code",
      "metadata": {
        "id": "K1DsIykSiOqP"
      },
      "source": [
        "# Load the digits dataset\n",
        "# digits = {data,target,indices}; n = 1797\n",
        "digits = datasets.load_digits()\n",
        "\n",
        "# Set the random state to 2 for reproducibility\n",
        "rng = np.random.RandomState(2)\n",
        "\n",
        "### START CODE HERE ###\n",
        "# Initialize the indices as an ordered array, with each element corresponding to a sample in the dataset\n",
        "indices = np.arange(len(digits.data))\n",
        "\n",
        "# Shuffle the indices\n",
        "rng.shuffle(indices)\n",
        "\n",
        "# Use the shuffled indices to extract 1000 feature vectors, labels, and images\n",
        "n_total_samples = 1000\n",
        "# Features\n",
        "X = digits.data[indices[:n_total_samples]]\n",
        "# Labels\n",
        "y = digits.target[indices[:n_total_samples]]\n",
        "# Images\n",
        "images = digits.images[indices[:n_total_samples]]\n",
        "\n",
        "# Copy the labels\n",
        "y_train = np.copy(y)\n",
        "\n",
        "# Replace all of the elements of y_train after the first 50 with -1, rendering them unlabeled\n",
        "n_labeled_points = 250\n",
        "# Create an ordered array of indices of the training data\n",
        "train_indices = np.arange(n_total_samples)\n",
        "# Define the training data indices after n_labeled_points as unlabeled\n",
        "unlabeled_set = train_indices[n_labeled_points:]\n",
        "# Conduct the label replacement\n",
        "y_train[unlabeled_set] = -1\n",
        "### END CODE HERE ###"
      ],
      "execution_count": 28,
      "outputs": []
    },
    {
      "cell_type": "code",
      "metadata": {
        "colab": {
          "base_uri": "https://localhost:8080/"
        },
        "id": "LoqUJPLAiOqQ",
        "outputId": "2bf8c1d3-0b7e-4282-99b2-c325b20b44c0"
      },
      "source": [
        "print(y_train[0:1000])"
      ],
      "execution_count": 29,
      "outputs": [
        {
          "output_type": "stream",
          "text": [
            "[ 4  0  9  1  4  7  1  5  1  6  6  7  6  1  5  5  4  6  2  7  4  6  4  1\n",
            "  5  2  9  5  4  6  5  6  3  4  0  9  9  8  4  6  8  8  5  7  9  6  9  6\n",
            "  1  3  0  1  9  7  3  3  1  1  8  8  9  8  5  4  4  7  3  5  8  4  3  1\n",
            "  3  8  7  3  3  0  8  7  2  8  5  3  8  7  6  4  6  2  2  0  1  1  5  3\n",
            "  5  7  6  8  2  2  6  4  6  7  3  7  3  9  4  7  0  3  5  8  5  0  3  9\n",
            "  2  7  3  2  0  8  1  9  2  1  9  1  0  3  4  3  0  9  3  2  2  7  3  1\n",
            "  6  7  2  8  3  1  1  6  4  8  2  1  8  4  1  3  1  1  9  5  4  8  7  4\n",
            "  8  9  5  7  6  9  0  0  4  0  0  4  0  6  5  8  8  3  7  9  2  0  3  2\n",
            "  7  3  0  2  1  5  2  7  0  6  9  3  1  1  3  5  2  3  5  2  1  2  9  4\n",
            "  6  5  5  5  9  7  1  5  9  6  3  7  1  7  5  1  7  2  7  5  5  4  8  6\n",
            "  6  2  8  7  3  7  8  0  9  5 -1 -1 -1 -1 -1 -1 -1 -1 -1 -1 -1 -1 -1 -1\n",
            " -1 -1 -1 -1 -1 -1 -1 -1 -1 -1 -1 -1 -1 -1 -1 -1 -1 -1 -1 -1 -1 -1 -1 -1\n",
            " -1 -1 -1 -1 -1 -1 -1 -1 -1 -1 -1 -1 -1 -1 -1 -1 -1 -1 -1 -1 -1 -1 -1 -1\n",
            " -1 -1 -1 -1 -1 -1 -1 -1 -1 -1 -1 -1 -1 -1 -1 -1 -1 -1 -1 -1 -1 -1 -1 -1\n",
            " -1 -1 -1 -1 -1 -1 -1 -1 -1 -1 -1 -1 -1 -1 -1 -1 -1 -1 -1 -1 -1 -1 -1 -1\n",
            " -1 -1 -1 -1 -1 -1 -1 -1 -1 -1 -1 -1 -1 -1 -1 -1 -1 -1 -1 -1 -1 -1 -1 -1\n",
            " -1 -1 -1 -1 -1 -1 -1 -1 -1 -1 -1 -1 -1 -1 -1 -1 -1 -1 -1 -1 -1 -1 -1 -1\n",
            " -1 -1 -1 -1 -1 -1 -1 -1 -1 -1 -1 -1 -1 -1 -1 -1 -1 -1 -1 -1 -1 -1 -1 -1\n",
            " -1 -1 -1 -1 -1 -1 -1 -1 -1 -1 -1 -1 -1 -1 -1 -1 -1 -1 -1 -1 -1 -1 -1 -1\n",
            " -1 -1 -1 -1 -1 -1 -1 -1 -1 -1 -1 -1 -1 -1 -1 -1 -1 -1 -1 -1 -1 -1 -1 -1\n",
            " -1 -1 -1 -1 -1 -1 -1 -1 -1 -1 -1 -1 -1 -1 -1 -1 -1 -1 -1 -1 -1 -1 -1 -1\n",
            " -1 -1 -1 -1 -1 -1 -1 -1 -1 -1 -1 -1 -1 -1 -1 -1 -1 -1 -1 -1 -1 -1 -1 -1\n",
            " -1 -1 -1 -1 -1 -1 -1 -1 -1 -1 -1 -1 -1 -1 -1 -1 -1 -1 -1 -1 -1 -1 -1 -1\n",
            " -1 -1 -1 -1 -1 -1 -1 -1 -1 -1 -1 -1 -1 -1 -1 -1 -1 -1 -1 -1 -1 -1 -1 -1\n",
            " -1 -1 -1 -1 -1 -1 -1 -1 -1 -1 -1 -1 -1 -1 -1 -1 -1 -1 -1 -1 -1 -1 -1 -1\n",
            " -1 -1 -1 -1 -1 -1 -1 -1 -1 -1 -1 -1 -1 -1 -1 -1 -1 -1 -1 -1 -1 -1 -1 -1\n",
            " -1 -1 -1 -1 -1 -1 -1 -1 -1 -1 -1 -1 -1 -1 -1 -1 -1 -1 -1 -1 -1 -1 -1 -1\n",
            " -1 -1 -1 -1 -1 -1 -1 -1 -1 -1 -1 -1 -1 -1 -1 -1 -1 -1 -1 -1 -1 -1 -1 -1\n",
            " -1 -1 -1 -1 -1 -1 -1 -1 -1 -1 -1 -1 -1 -1 -1 -1 -1 -1 -1 -1 -1 -1 -1 -1\n",
            " -1 -1 -1 -1 -1 -1 -1 -1 -1 -1 -1 -1 -1 -1 -1 -1 -1 -1 -1 -1 -1 -1 -1 -1\n",
            " -1 -1 -1 -1 -1 -1 -1 -1 -1 -1 -1 -1 -1 -1 -1 -1 -1 -1 -1 -1 -1 -1 -1 -1\n",
            " -1 -1 -1 -1 -1 -1 -1 -1 -1 -1 -1 -1 -1 -1 -1 -1 -1 -1 -1 -1 -1 -1 -1 -1\n",
            " -1 -1 -1 -1 -1 -1 -1 -1 -1 -1 -1 -1 -1 -1 -1 -1 -1 -1 -1 -1 -1 -1 -1 -1\n",
            " -1 -1 -1 -1 -1 -1 -1 -1 -1 -1 -1 -1 -1 -1 -1 -1 -1 -1 -1 -1 -1 -1 -1 -1\n",
            " -1 -1 -1 -1 -1 -1 -1 -1 -1 -1 -1 -1 -1 -1 -1 -1 -1 -1 -1 -1 -1 -1 -1 -1\n",
            " -1 -1 -1 -1 -1 -1 -1 -1 -1 -1 -1 -1 -1 -1 -1 -1 -1 -1 -1 -1 -1 -1 -1 -1\n",
            " -1 -1 -1 -1 -1 -1 -1 -1 -1 -1 -1 -1 -1 -1 -1 -1 -1 -1 -1 -1 -1 -1 -1 -1\n",
            " -1 -1 -1 -1 -1 -1 -1 -1 -1 -1 -1 -1 -1 -1 -1 -1 -1 -1 -1 -1 -1 -1 -1 -1\n",
            " -1 -1 -1 -1 -1 -1 -1 -1 -1 -1 -1 -1 -1 -1 -1 -1 -1 -1 -1 -1 -1 -1 -1 -1\n",
            " -1 -1 -1 -1 -1 -1 -1 -1 -1 -1 -1 -1 -1 -1 -1 -1 -1 -1 -1 -1 -1 -1 -1 -1\n",
            " -1 -1 -1 -1 -1 -1 -1 -1 -1 -1 -1 -1 -1 -1 -1 -1 -1 -1 -1 -1 -1 -1 -1 -1\n",
            " -1 -1 -1 -1 -1 -1 -1 -1 -1 -1 -1 -1 -1 -1 -1 -1]\n"
          ],
          "name": "stdout"
        }
      ]
    },
    {
      "cell_type": "code",
      "metadata": {
        "colab": {
          "base_uri": "https://localhost:8080/"
        },
        "id": "DVSOo_CCiOqQ",
        "outputId": "11292b2b-f3b2-4967-964b-5cbc5b8b62d1"
      },
      "source": [
        "### START CODE HERE ###\n",
        "# Initialize the model\n",
        "lp_model = LabelSpreading(gamma=0.25, max_iter=20)\n",
        "# Train the model\n",
        "lp_model.fit(X, y_train)\n",
        "### END CODE HERE ###"
      ],
      "execution_count": 30,
      "outputs": [
        {
          "output_type": "execute_result",
          "data": {
            "text/plain": [
              "LabelSpreading(alpha=0.2, gamma=0.25, kernel='rbf', max_iter=20, n_jobs=None,\n",
              "               n_neighbors=7, tol=0.001)"
            ]
          },
          "metadata": {
            "tags": []
          },
          "execution_count": 30
        }
      ]
    },
    {
      "cell_type": "code",
      "metadata": {
        "colab": {
          "base_uri": "https://localhost:8080/"
        },
        "id": "wfg9bgfViOqQ",
        "outputId": "c1a68431-4a3c-43b5-d58b-07710a7c4724"
      },
      "source": [
        "### START CODE HERE ###\n",
        "# Extract the label predictions for the unlabeled data\n",
        "predicted_labels = lp_model.transduction_[unlabeled_set]\n",
        "# Extract the true labels of the unlabeled data\n",
        "true_labels = y[unlabeled_set]\n",
        "# Compute the confusion matrix between the true and predicted labels of the unlabeled data\n",
        "cm = confusion_matrix(true_labels, predicted_labels, labels=lp_model.classes_)\n",
        "### END CODE HERE ###\n",
        "print(\"Label Spreading model: %d labeled & %d unlabeled points (%d total)\" %\n",
        "      (n_labeled_points, n_total_samples - n_labeled_points, n_total_samples))\n",
        "\n",
        "print(classification_report(true_labels, predicted_labels))\n",
        "\n",
        "print(\"Confusion matrix\")\n",
        "print(cm)"
      ],
      "execution_count": 31,
      "outputs": [
        {
          "output_type": "stream",
          "text": [
            "Label Spreading model: 250 labeled & 750 unlabeled points (1000 total)\n",
            "              precision    recall  f1-score   support\n",
            "\n",
            "           0       1.00      1.00      1.00        81\n",
            "           1       0.93      0.97      0.95        70\n",
            "           2       1.00      0.90      0.95        70\n",
            "           3       0.91      0.99      0.95        80\n",
            "           4       1.00      1.00      1.00        73\n",
            "           5       0.99      0.93      0.96        81\n",
            "           6       1.00      1.00      1.00        86\n",
            "           7       1.00      0.99      0.99        67\n",
            "           8       0.94      0.89      0.91        66\n",
            "           9       0.89      0.96      0.92        76\n",
            "\n",
            "    accuracy                           0.96       750\n",
            "   macro avg       0.97      0.96      0.96       750\n",
            "weighted avg       0.97      0.96      0.96       750\n",
            "\n",
            "Confusion matrix\n",
            "[[81  0  0  0  0  0  0  0  0  0]\n",
            " [ 0 68  0  0  0  1  0  0  1  0]\n",
            " [ 0  4 63  1  0  0  0  0  2  0]\n",
            " [ 0  0  0 79  0  0  0  0  0  1]\n",
            " [ 0  0  0  0 73  0  0  0  0  0]\n",
            " [ 0  0  0  0  0 75  0  0  0  6]\n",
            " [ 0  0  0  0  0  0 86  0  0  0]\n",
            " [ 0  0  0  0  0  0  0 66  0  1]\n",
            " [ 0  1  0  5  0  0  0  0 59  1]\n",
            " [ 0  0  0  2  0  0  0  0  1 73]]\n"
          ],
          "name": "stdout"
        }
      ]
    },
    {
      "cell_type": "code",
      "metadata": {
        "id": "Og5amIeXiOqR"
      },
      "source": [
        ""
      ],
      "execution_count": 31,
      "outputs": []
    },
    {
      "cell_type": "code",
      "metadata": {
        "colab": {
          "base_uri": "https://localhost:8080/",
          "height": 314
        },
        "id": "GPihyhYWiOqR",
        "outputId": "6870d1b9-f3b3-47c0-f9fc-4782eb7fbbe3"
      },
      "source": [
        "### START CODE HERE ###\n",
        "# Calculate uncertainty values for each transduced distribution\n",
        "# You may scipy stats' entropy() function useful.\n",
        "pred_entropies = stats.distributions.entropy(lp_model.label_distributions_.T)\n",
        "\n",
        "# Pick the top 10 most uncertain labels, in descending order of uncertainty\n",
        "uncertainty_index = np.argsort(pred_entropies)[-10:]\n",
        "\n",
        "### END CODE HERE ###\n",
        "\n",
        "# Plot\n",
        "f = plt.figure(figsize=(7, 5))\n",
        "for index, image_index in enumerate(uncertainty_index):\n",
        "    image = images[image_index]\n",
        "\n",
        "    sub = f.add_subplot(2, 5, index + 1)\n",
        "    sub.imshow(image, cmap=plt.cm.gray_r)\n",
        "    plt.xticks([])\n",
        "    plt.yticks([])\n",
        "    sub.set_title('predict: %i\\ntrue: %i' % (\n",
        "        lp_model.transduction_[image_index], y[image_index]))\n",
        "\n",
        "f.suptitle('Learning with small amount of labeled data')\n",
        "plt.show()"
      ],
      "execution_count": 32,
      "outputs": [
        {
          "output_type": "display_data",
          "data": {
            "image/png": "[encoded data removed]",
            "text/plain": [
              "<Figure size 504x360 with 10 Axes>"
            ]
          },
          "metadata": {
            "tags": []
          }
        }
      ]
    },
    {
      "cell_type": "code",
      "metadata": {
        "id": "W6HB8RzhixqI"
      },
      "source": [
        ""
      ],
      "execution_count": null,
      "outputs": []
    }
  ]
}